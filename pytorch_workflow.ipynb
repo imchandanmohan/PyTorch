{
  "nbformat": 4,
  "nbformat_minor": 0,
  "metadata": {
    "colab": {
      "provenance": [],
      "toc_visible": true,
      "authorship_tag": "ABX9TyMBRO3G2zD65pAs/mnpSTSj",
      "include_colab_link": true
    },
    "kernelspec": {
      "name": "python3",
      "display_name": "Python 3"
    },
    "language_info": {
      "name": "python"
    }
  },
  "cells": [
    {
      "cell_type": "markdown",
      "metadata": {
        "id": "view-in-github",
        "colab_type": "text"
      },
      "source": [
        "<a href=\"https://colab.research.google.com/github/imchandanmohan/PyTorch/blob/main/pytorch_workflow.ipynb\" target=\"_parent\"><img src=\"https://colab.research.google.com/assets/colab-badge.svg\" alt=\"Open In Colab\"/></a>"
      ]
    },
    {
      "cell_type": "code",
      "source": [
        "what_we_are_covering = {1: \"prepare and loading data\",\n",
        "                        2: \"build model\",\n",
        "                        3: \"\"}"
      ],
      "metadata": {
        "id": "Cq2iMGuCDtX6"
      },
      "execution_count": null,
      "outputs": []
    },
    {
      "cell_type": "code",
      "source": [
        "import torch\n",
        "from torch import nn # url for documentation https://pytorch.org/docs/stable/nn.html it contains the bulidning blocks for creating neural network\n",
        "import matplotlib.pyplot as plt\n",
        "\n",
        "#check the Pytorch version\n",
        "\n",
        "torch.__version__"
      ],
      "metadata": {
        "colab": {
          "base_uri": "https://localhost:8080/",
          "height": 35
        },
        "id": "BTRuMAhMEHF3",
        "outputId": "2ce39fd9-5db6-4771-a438-48fe2fd8cefd"
      },
      "execution_count": null,
      "outputs": [
        {
          "output_type": "execute_result",
          "data": {
            "text/plain": [
              "'2.2.1+cu121'"
            ],
            "application/vnd.google.colaboratory.intrinsic+json": {
              "type": "string"
            }
          },
          "metadata": {},
          "execution_count": 5
        }
      ]
    },
    {
      "cell_type": "markdown",
      "source": [
        "## Data (Preparing and loading)\n",
        "\n",
        "\n",
        "1) Data can be anything but we are going to convert to numerical representation\n",
        "\n",
        "2) Build model to learn the patterns in numbers"
      ],
      "metadata": {
        "id": "RKxp39qhFlWh"
      }
    },
    {
      "cell_type": "code",
      "source": [
        "# Lets create a linear regression model and the fuction is \"y = a + bx\"\n",
        "# a is intercept, b is weight and x is a parameter\n",
        "# Create a \"known\" parameters or features or data\n",
        "\n",
        "weight = 0.7 #b\n",
        "bias = 0.3   #a\n",
        "\n",
        "#lets create a data\n",
        "\n",
        "start = 0\n",
        "end = 1\n",
        "step = 0.02\n",
        "\n",
        "\n",
        "# X = torch.arange(start, end, step)  # capital X represents matrix and lowercase will be a vector\n",
        "\n",
        "# Toggle between these two to check the graph\n",
        "\n",
        "X = torch.rand(50)"
      ],
      "metadata": {
        "id": "p37vv4fzGCBU"
      },
      "execution_count": null,
      "outputs": []
    },
    {
      "cell_type": "code",
      "source": [
        "print(X)"
      ],
      "metadata": {
        "colab": {
          "base_uri": "https://localhost:8080/"
        },
        "id": "oaNi_roqILpO",
        "outputId": "d2d8cd18-aca2-423b-f360-2b1e14e221f1"
      },
      "execution_count": null,
      "outputs": [
        {
          "output_type": "stream",
          "name": "stdout",
          "text": [
            "tensor([0.8772, 0.4955, 0.5410, 0.7696, 0.8377, 0.6579, 0.7742, 0.2525, 0.7009,\n",
            "        0.6974, 0.2189, 0.5774, 0.1621, 0.1688, 0.5765, 0.9475, 0.7048, 0.4336,\n",
            "        0.1034, 0.0389, 0.5645, 0.6738, 0.1511, 0.4760, 0.1131, 0.5645, 0.5107,\n",
            "        0.1282, 0.9955, 0.6371, 0.8063, 0.3086, 0.9297, 0.0252, 0.6298, 0.1088,\n",
            "        0.9412, 0.7711, 0.8771, 0.0739, 0.9531, 0.9588, 0.7183, 0.4898, 0.3950,\n",
            "        0.1395, 0.1827, 0.4771, 0.6608, 0.0828])\n"
          ]
        }
      ]
    },
    {
      "cell_type": "code",
      "source": [
        "y = bias + (weight * X) # a + bx"
      ],
      "metadata": {
        "id": "vLB2E86fIP9A"
      },
      "execution_count": null,
      "outputs": []
    },
    {
      "cell_type": "code",
      "source": [
        "print(y)"
      ],
      "metadata": {
        "colab": {
          "base_uri": "https://localhost:8080/"
        },
        "id": "XaVf9Td5Ijwv",
        "outputId": "23c63adf-28c2-4509-fa95-40b1c22fdfa3"
      },
      "execution_count": null,
      "outputs": [
        {
          "output_type": "stream",
          "name": "stdout",
          "text": [
            "tensor([0.9141, 0.6469, 0.6787, 0.8388, 0.8864, 0.7605, 0.8420, 0.4768, 0.7906,\n",
            "        0.7882, 0.4532, 0.7042, 0.4135, 0.4181, 0.7036, 0.9632, 0.7934, 0.6035,\n",
            "        0.3724, 0.3273, 0.6952, 0.7717, 0.4058, 0.6332, 0.3792, 0.6951, 0.6575,\n",
            "        0.3898, 0.9968, 0.7460, 0.8644, 0.5160, 0.9508, 0.3176, 0.7408, 0.3761,\n",
            "        0.9589, 0.8398, 0.9139, 0.3517, 0.9672, 0.9711, 0.8028, 0.6429, 0.5765,\n",
            "        0.3976, 0.4279, 0.6340, 0.7626, 0.3579])\n"
          ]
        }
      ]
    },
    {
      "cell_type": "code",
      "source": [
        "X [:10], y[:10]"
      ],
      "metadata": {
        "colab": {
          "base_uri": "https://localhost:8080/"
        },
        "id": "xU0jx3lKIlON",
        "outputId": "52baf563-465e-464c-d7d2-722e341d9c0e"
      },
      "execution_count": null,
      "outputs": [
        {
          "output_type": "execute_result",
          "data": {
            "text/plain": [
              "(tensor([0.8772, 0.4955, 0.5410, 0.7696, 0.8377, 0.6579, 0.7742, 0.2525, 0.7009,\n",
              "         0.6974]),\n",
              " tensor([0.9141, 0.6469, 0.6787, 0.8388, 0.8864, 0.7605, 0.8420, 0.4768, 0.7906,\n",
              "         0.7882]))"
            ]
          },
          "metadata": {},
          "execution_count": 46
        }
      ]
    },
    {
      "cell_type": "markdown",
      "source": [
        "From the above cell we have y which was generate by X and we know the reson for the value ***0.3140*** for the second value of x whihc is ***0.0200*** and there relation is 0.3 + (0.7 * 0.0200)\n",
        "\n",
        "\n",
        "\n",
        ">\"*Our goal is to find this equation using machine learning*\"\n",
        "\n",
        "\n",
        "\n",
        "\n",
        "\n",
        "\n"
      ],
      "metadata": {
        "id": "2IckpUAGI355"
      }
    },
    {
      "cell_type": "code",
      "source": [
        "X = torch.arange(start, end, step).unsqueeze(dim=1) # we will add one more dimension to the tensor values for woring with model which makes up with [[]]\n",
        "print(X[:5])"
      ],
      "metadata": {
        "colab": {
          "base_uri": "https://localhost:8080/"
        },
        "id": "VanIjFPoIvNQ",
        "outputId": "d1d407d8-b1ad-4907-c757-ef36aab9cd07"
      },
      "execution_count": null,
      "outputs": [
        {
          "output_type": "stream",
          "name": "stdout",
          "text": [
            "tensor([[0.0000],\n",
            "        [0.0200],\n",
            "        [0.0400],\n",
            "        [0.0600],\n",
            "        [0.0800]])\n"
          ]
        }
      ]
    },
    {
      "cell_type": "markdown",
      "source": [
        "# Splitting Data\n",
        "\n",
        "\n",
        "\n",
        "1.   Training Set\n",
        "2.   Validation Set \"*we will iterate the process until it does well on validation set before we perform on Test Set*\"\n",
        "3.   Test Set \"see if model is ready for genralization\"\n",
        "\n",
        "Main goal is to send genralize the model and see how weel it perform on unseen data\n",
        "\n",
        "\n",
        "**100 samples -> 70 : 15 : 15**\n",
        "\n",
        "\n",
        "\n"
      ],
      "metadata": {
        "id": "Rw7g6OZdLnmJ"
      }
    },
    {
      "cell_type": "code",
      "source": [
        "# Create train/validate/test split\n",
        "print(f\"Total number of sample in X is {len(X)}\")\n",
        "train_spilt_sample = int(0.75*len(X)) # 78% for training\n",
        "validate_split_sample = int(0.05 * len(X))  # 5% for validation\n",
        "test_split_sample = int(len(X) - (train_spilt_sample + validate_split_sample))\n",
        "\n",
        "print(f\"sample of train is {train_spilt_sample}, validataion sample is {validate_split_sample} and test sample is {test_split_sample} and there total is {train_spilt_sample + validate_split_sample + test_split_sample}\")\n"
      ],
      "metadata": {
        "colab": {
          "base_uri": "https://localhost:8080/"
        },
        "id": "jpZIvRRBKc0z",
        "outputId": "fdc15a6c-1c5e-49ec-b9bd-f75743861e41"
      },
      "execution_count": null,
      "outputs": [
        {
          "output_type": "stream",
          "name": "stdout",
          "text": [
            "Total number of sample in X is 50\n",
            "sample of train is 37, validataion sample is 2 and test sample is 11 and there total is 50\n"
          ]
        }
      ]
    },
    {
      "cell_type": "code",
      "source": [
        "#Sklearn library can help us in spliting the sample like below one and also can add randomness in selecting sample\n",
        "X_train, y_train = X[ : train_spilt_sample], y[ : train_spilt_sample]\n",
        "X_validate, y_validate = X[train_spilt_sample : train_spilt_sample+validate_split_sample], y[train_spilt_sample : train_spilt_sample+validate_split_sample]\n",
        "X_test,  y_test = X[train_spilt_sample+validate_split_sample : ], y[train_spilt_sample+validate_split_sample : ]\n",
        "\n",
        "len(X_train), len(X_validate), len(X_test), len(y_train), len(y_validate), len(y_test)"
      ],
      "metadata": {
        "colab": {
          "base_uri": "https://localhost:8080/"
        },
        "id": "R5d592T7N55A",
        "outputId": "0bf53171-8a56-4b3f-e471-fa696acb3a4e"
      },
      "execution_count": null,
      "outputs": [
        {
          "output_type": "execute_result",
          "data": {
            "text/plain": [
              "(37, 2, 11, 37, 2, 11)"
            ]
          },
          "metadata": {},
          "execution_count": 51
        }
      ]
    },
    {
      "cell_type": "code",
      "source": [
        "# Visulize sample on the Page\n",
        "\n",
        "def plot_prediction(train_data =X_train,\n",
        "                    train_label = y_train,\n",
        "                    validate_data = X_validate,\n",
        "                    validate_label = y_validate,\n",
        "                    test_data = X_test,\n",
        "                    test_label = y_test,\n",
        "                    prediction = None):\n",
        "  \"\"\"\n",
        "  Plots all the samples\n",
        "  \"\"\"\n",
        "  plt.figure(figsize = (10,7))\n",
        "\n",
        "  #plot training data in blue\n",
        "  plt.scatter(train_data, train_label, s = 4, c = \"b\", label = \"Training sample\")\n",
        "\n",
        "  #plot validation data in red\n",
        "  plt.scatter(validate_data,validate_label, s = 4, c = \"#FF007F\", label = \"validation sample\")\n",
        "\n",
        "  #plot test data in green\n",
        "  plt.scatter(test_data,test_label, s = 4, c = \"g\", label = \"Test sample\")\n",
        "\n",
        "  #Are there prediction\n",
        "\n",
        "  if prediction is not None:\n",
        "\n",
        "    #Plot predictions\n",
        "    plt.scatter(test_data, prediction, s = 4, c = \"r\", label = \"prediction\")\n",
        "\n",
        "  #show legends\n",
        "  plt.legend( prop = { \"size\" : 14 } );\n"
      ],
      "metadata": {
        "id": "hyZclTSFR6mC"
      },
      "execution_count": null,
      "outputs": []
    },
    {
      "cell_type": "code",
      "source": [
        "plot_prediction()"
      ],
      "metadata": {
        "colab": {
          "base_uri": "https://localhost:8080/",
          "height": 599
        },
        "id": "6Y7RuwkUVJwR",
        "outputId": "c7d1240d-c394-4419-9b3e-58ba61a4b00d"
      },
      "execution_count": null,
      "outputs": [
        {
          "output_type": "display_data",
          "data": {
            "text/plain": [
              "<Figure size 1000x700 with 1 Axes>"
            ],
            "image/png": "[encoded data removed]"
          },
          "metadata": {}
        }
      ]
    },
    {
      "cell_type": "markdown",
      "source": [
        "# Build Model"
      ],
      "metadata": {
        "id": "2IHHcedRa3pl"
      }
    },
    {
      "cell_type": "code",
      "source": [
        "#Create linear regression model class\n",
        "\n",
        "class LinearRegressionModel(nn.Module): #we are inheriting nn.Model class in this\n",
        "  def __init__(self):\n",
        "    super().__init__()\n",
        "    self.weights = nn.parameter(torch.randn(1,\n",
        "                                            required_grad = True,\n",
        "                                            dtype = torch.float))\n",
        "\n",
        "    self.bias = nn.parameter(torch.randn(1,\n",
        "                                         required_grad = True,\n",
        "                                         dtype = torch.float))\n",
        "    # Forward method to define the computation in the model\n",
        "\n",
        "    def forward(self, x: torch.Tensor) -> torch.Tensor:\n",
        "      return self.weights * x + self.bias"
      ],
      "metadata": {
        "id": "xFY22zloXlM2"
      },
      "execution_count": null,
      "outputs": []
    },
    {
      "cell_type": "markdown",
      "source": [
        "### PyTorch modules\n",
        "\n",
        "\n",
        "* torch.nn (all models)\n",
        "* torch.nn.parameter (.nn will take these parameters)\n",
        "\n",
        ">.nn will take these parameters\n",
        "\n",
        "* torch.nn.Module (The base class for all the neural network modules, if subclass then overwrite with forward())\n",
        "* torch.optim (help with GD)\n",
        "\n",
        "\n",
        "\n",
        "\n"
      ],
      "metadata": {
        "id": "A3GInKtyh5-m"
      }
    },
    {
      "cell_type": "code",
      "source": [],
      "metadata": {
        "id": "N_lJKlBhgq10"
      },
      "execution_count": null,
      "outputs": []
    }
  ]
}