{
  "nbformat": 4,
  "nbformat_minor": 0,
  "metadata": {
    "colab": {
      "provenance": [],
      "toc_visible": true,
      "authorship_tag": "ABX9TyOV1eCS8tHyDbtQjLC6xt9Q",
      "include_colab_link": true
    },
    "kernelspec": {
      "name": "python3",
      "display_name": "Python 3"
    },
    "language_info": {
      "name": "python"
    }
  },
  "cells": [
    {
      "cell_type": "markdown",
      "metadata": {
        "id": "view-in-github",
        "colab_type": "text"
      },
      "source": [
        "<a href=\"https://colab.research.google.com/github/imchandanmohan/PyTorch/blob/main/Pytorch_Workflow.ipynb\" target=\"_parent\"><img src=\"https://colab.research.google.com/assets/colab-badge.svg\" alt=\"Open In Colab\"/></a>"
      ]
    },
    {
      "cell_type": "code",
      "source": [
        "what_we_are_covering = {1: \"prepare and loading data\",\n",
        "                        2: \"build model\",\n",
        "                        3: \"\"}"
      ],
      "metadata": {
        "id": "Cq2iMGuCDtX6"
      },
      "execution_count": 1,
      "outputs": []
    },
    {
      "cell_type": "code",
      "source": [
        "import torch\n",
        "from torch import nn # url for documentation https://pytorch.org/docs/stable/nn.html it contains the bulidning blocks for creating neural network\n",
        "import matplotlib.pyplot as plt\n",
        "\n",
        "#check the Pytorch version\n",
        "\n",
        "torch.__version__"
      ],
      "metadata": {
        "colab": {
          "base_uri": "https://localhost:8080/",
          "height": 35
        },
        "id": "BTRuMAhMEHF3",
        "outputId": "dfcad828-4878-4ecf-c3f2-16271e9a10b3"
      },
      "execution_count": 2,
      "outputs": [
        {
          "output_type": "execute_result",
          "data": {
            "text/plain": [
              "'2.2.1+cu121'"
            ],
            "application/vnd.google.colaboratory.intrinsic+json": {
              "type": "string"
            }
          },
          "metadata": {},
          "execution_count": 2
        }
      ]
    },
    {
      "cell_type": "markdown",
      "source": [
        "## Data (Preparing and loading)\n",
        "\n",
        "\n",
        "1) Data can be anything but we are going to convert to numerical representation\n",
        "\n",
        "2) Build model to learn the patterns in numbers"
      ],
      "metadata": {
        "id": "RKxp39qhFlWh"
      }
    },
    {
      "cell_type": "code",
      "source": [
        "# Lets create a linear regression model and the fuction is \"y = a + bx\"\n",
        "# a is intercept, b is weight and x is a parameter\n",
        "# Create a \"known\" parameters or features or data\n",
        "\n",
        "weight = 0.7 #b\n",
        "bias = 0.3   #a\n",
        "\n",
        "#lets create a data\n",
        "\n",
        "start = 0\n",
        "end = 1\n",
        "step = 0.02\n",
        "\n",
        "\n",
        "X = torch.arange(start, end, step)  # capital X represents matrix and lowercase will be a vector\n",
        "\n",
        "# Toggle between these two to check the graph\n",
        "\n",
        "#X = torch.rand(50)"
      ],
      "metadata": {
        "id": "p37vv4fzGCBU"
      },
      "execution_count": 3,
      "outputs": []
    },
    {
      "cell_type": "code",
      "source": [
        "print(X)"
      ],
      "metadata": {
        "colab": {
          "base_uri": "https://localhost:8080/"
        },
        "id": "oaNi_roqILpO",
        "outputId": "4ab58be3-1873-4afe-b5f6-8e3f921f6b42"
      },
      "execution_count": 4,
      "outputs": [
        {
          "output_type": "stream",
          "name": "stdout",
          "text": [
            "tensor([0.0000, 0.0200, 0.0400, 0.0600, 0.0800, 0.1000, 0.1200, 0.1400, 0.1600,\n",
            "        0.1800, 0.2000, 0.2200, 0.2400, 0.2600, 0.2800, 0.3000, 0.3200, 0.3400,\n",
            "        0.3600, 0.3800, 0.4000, 0.4200, 0.4400, 0.4600, 0.4800, 0.5000, 0.5200,\n",
            "        0.5400, 0.5600, 0.5800, 0.6000, 0.6200, 0.6400, 0.6600, 0.6800, 0.7000,\n",
            "        0.7200, 0.7400, 0.7600, 0.7800, 0.8000, 0.8200, 0.8400, 0.8600, 0.8800,\n",
            "        0.9000, 0.9200, 0.9400, 0.9600, 0.9800])\n"
          ]
        }
      ]
    },
    {
      "cell_type": "code",
      "source": [
        "y = bias + (weight * X) # a + bx"
      ],
      "metadata": {
        "id": "vLB2E86fIP9A"
      },
      "execution_count": 5,
      "outputs": []
    },
    {
      "cell_type": "code",
      "source": [
        "print(y)"
      ],
      "metadata": {
        "colab": {
          "base_uri": "https://localhost:8080/"
        },
        "id": "XaVf9Td5Ijwv",
        "outputId": "83d187a6-03a6-4324-f830-94d6571fba6b"
      },
      "execution_count": 6,
      "outputs": [
        {
          "output_type": "stream",
          "name": "stdout",
          "text": [
            "tensor([0.3000, 0.3140, 0.3280, 0.3420, 0.3560, 0.3700, 0.3840, 0.3980, 0.4120,\n",
            "        0.4260, 0.4400, 0.4540, 0.4680, 0.4820, 0.4960, 0.5100, 0.5240, 0.5380,\n",
            "        0.5520, 0.5660, 0.5800, 0.5940, 0.6080, 0.6220, 0.6360, 0.6500, 0.6640,\n",
            "        0.6780, 0.6920, 0.7060, 0.7200, 0.7340, 0.7480, 0.7620, 0.7760, 0.7900,\n",
            "        0.8040, 0.8180, 0.8320, 0.8460, 0.8600, 0.8740, 0.8880, 0.9020, 0.9160,\n",
            "        0.9300, 0.9440, 0.9580, 0.9720, 0.9860])\n"
          ]
        }
      ]
    },
    {
      "cell_type": "code",
      "source": [
        "X [:10], y[:10]"
      ],
      "metadata": {
        "colab": {
          "base_uri": "https://localhost:8080/"
        },
        "id": "xU0jx3lKIlON",
        "outputId": "0629b78e-8921-43c2-98c2-b5c660b9736e"
      },
      "execution_count": 7,
      "outputs": [
        {
          "output_type": "execute_result",
          "data": {
            "text/plain": [
              "(tensor([0.0000, 0.0200, 0.0400, 0.0600, 0.0800, 0.1000, 0.1200, 0.1400, 0.1600,\n",
              "         0.1800]),\n",
              " tensor([0.3000, 0.3140, 0.3280, 0.3420, 0.3560, 0.3700, 0.3840, 0.3980, 0.4120,\n",
              "         0.4260]))"
            ]
          },
          "metadata": {},
          "execution_count": 7
        }
      ]
    },
    {
      "cell_type": "markdown",
      "source": [
        "From the above cell we have y which was generate by X and we know the reson for the value ***0.3140*** for the second value of x whihc is ***0.0200*** and there relation is 0.3 + (0.7 * 0.0200)\n",
        "\n",
        "\n",
        "\n",
        ">\"*Our goal is to find this equation using machine learning*\"\n",
        "\n",
        "\n",
        "\n",
        "\n",
        "\n",
        "\n"
      ],
      "metadata": {
        "id": "2IckpUAGI355"
      }
    },
    {
      "cell_type": "code",
      "source": [
        "X = torch.arange(start, end, step).unsqueeze(dim=1) # we will add one more dimension to the tensor values for woring with model which makes up with [[]]\n",
        "print(X[:5])"
      ],
      "metadata": {
        "colab": {
          "base_uri": "https://localhost:8080/"
        },
        "id": "VanIjFPoIvNQ",
        "outputId": "03e32196-07bc-49e8-d0b3-0706b1774414"
      },
      "execution_count": 8,
      "outputs": [
        {
          "output_type": "stream",
          "name": "stdout",
          "text": [
            "tensor([[0.0000],\n",
            "        [0.0200],\n",
            "        [0.0400],\n",
            "        [0.0600],\n",
            "        [0.0800]])\n"
          ]
        }
      ]
    },
    {
      "cell_type": "markdown",
      "source": [
        "# Splitting Data\n",
        "\n",
        "\n",
        "\n",
        "1.   Training Set\n",
        "2.   Validation Set \"*we will iterate the process until it does well on validation set before we perform on Test Set*\"\n",
        "3.   Test Set \"see if model is ready for genralization\"\n",
        "\n",
        "Main goal is to send genralize the model and see how weel it perform on unseen data\n",
        "\n",
        "\n",
        "**100 samples -> 70 : 15 : 15**\n",
        "\n",
        "\n",
        "\n"
      ],
      "metadata": {
        "id": "Rw7g6OZdLnmJ"
      }
    },
    {
      "cell_type": "code",
      "source": [
        "# Create train/validate/test split\n",
        "print(f\"Total number of sample in X is {len(X)}\")\n",
        "train_spilt_sample = int(0.75*len(X)) # 78% for training\n",
        "validate_split_sample = int(0.05 * len(X))  # 5% for validation\n",
        "test_split_sample = int(len(X) - (train_spilt_sample + validate_split_sample))\n",
        "\n",
        "print(f\"sample of train is {train_spilt_sample}, validataion sample is {validate_split_sample} and test sample is {test_split_sample} and there total is {train_spilt_sample + validate_split_sample + test_split_sample}\")\n"
      ],
      "metadata": {
        "colab": {
          "base_uri": "https://localhost:8080/"
        },
        "id": "jpZIvRRBKc0z",
        "outputId": "21b5e1ef-8a99-45fd-9515-56d43f61cde9"
      },
      "execution_count": 9,
      "outputs": [
        {
          "output_type": "stream",
          "name": "stdout",
          "text": [
            "Total number of sample in X is 50\n",
            "sample of train is 37, validataion sample is 2 and test sample is 11 and there total is 50\n"
          ]
        }
      ]
    },
    {
      "cell_type": "code",
      "source": [
        "#Sklearn library can help us in spliting the sample like below one and also can add randomness in selecting sample\n",
        "X_train, y_train = X[ : train_spilt_sample], y[ : train_spilt_sample]\n",
        "X_validate, y_validate = X[train_spilt_sample : train_spilt_sample+validate_split_sample], y[train_spilt_sample : train_spilt_sample+validate_split_sample]\n",
        "X_test,  y_test = X[train_spilt_sample+validate_split_sample : ], y[train_spilt_sample+validate_split_sample : ]\n",
        "\n",
        "len(X_train), len(X_validate), len(X_test), len(y_train), len(y_validate), len(y_test)"
      ],
      "metadata": {
        "colab": {
          "base_uri": "https://localhost:8080/"
        },
        "id": "R5d592T7N55A",
        "outputId": "0962d260-fd31-4502-966b-6cb64c932545"
      },
      "execution_count": 10,
      "outputs": [
        {
          "output_type": "execute_result",
          "data": {
            "text/plain": [
              "(37, 2, 11, 37, 2, 11)"
            ]
          },
          "metadata": {},
          "execution_count": 10
        }
      ]
    },
    {
      "cell_type": "code",
      "source": [
        "# Visulize sample on the Page\n",
        "\n",
        "def plot_prediction(train_data =X_train,\n",
        "                    train_label = y_train,\n",
        "                    validate_data = X_validate,\n",
        "                    validate_label = y_validate,\n",
        "                    test_data = X_test,\n",
        "                    test_label = y_test,\n",
        "                    prediction = None):\n",
        "  \"\"\"\n",
        "  Plots all the samples\n",
        "  \"\"\"\n",
        "  plt.figure(figsize = (10,7))\n",
        "\n",
        "  #plot training data in blue\n",
        "  plt.scatter(train_data, train_label, s = 1, c = \"b\", label = \"Training sample\")\n",
        "\n",
        "  #plot validation data in red\n",
        "  plt.scatter(validate_data,validate_label, s = 4, c = \"#FF007F\", label = \"validation sample\")\n",
        "\n",
        "  #plot test data in green\n",
        "  plt.scatter(test_data,test_label, s = 4, c = \"g\", label = \"Test sample\")\n",
        "\n",
        "  #Are there prediction\n",
        "\n",
        "  if prediction is not None:\n",
        "\n",
        "    #Plot predictions\n",
        "    plt.scatter(test_data, prediction, s = 4, c = \"r\", label = \"prediction\")\n",
        "\n",
        "  #show legends\n",
        "  plt.legend( prop = { \"size\" : 14 } );\n"
      ],
      "metadata": {
        "id": "hyZclTSFR6mC"
      },
      "execution_count": 32,
      "outputs": []
    },
    {
      "cell_type": "code",
      "source": [
        "plot_prediction()"
      ],
      "metadata": {
        "colab": {
          "base_uri": "https://localhost:8080/",
          "height": 599
        },
        "id": "6Y7RuwkUVJwR",
        "outputId": "1dfb765d-4a10-4608-dd7f-e791dc9dc53b"
      },
      "execution_count": 12,
      "outputs": [
        {
          "output_type": "display_data",
          "data": {
            "text/plain": [
              "<Figure size 1000x700 with 1 Axes>"
            ],
            "image/png": "[encoded data removed]"
          },
          "metadata": {}
        }
      ]
    },
    {
      "cell_type": "markdown",
      "source": [
        "# Build Model"
      ],
      "metadata": {
        "id": "2IHHcedRa3pl"
      }
    },
    {
      "cell_type": "code",
      "source": [
        "#Create linear regression model class\n",
        "\n",
        "class LinearRegressionModel(nn.Module): #we are inheriting nn.Model class in this\n",
        "  def __init__(self):\n",
        "    super().__init__()\n",
        "    self.weights = nn.Parameter(torch.randn(1,\n",
        "                                            requires_grad = True,\n",
        "                                            dtype = torch.float))\n",
        "\n",
        "    self.bias = nn.Parameter(torch.randn(1,\n",
        "                                         requires_grad = True,\n",
        "                                         dtype = torch.float))\n",
        "  # Forward method to define the computation in the model\n",
        "  def forward(self, x: torch.Tensor) -> torch.Tensor:\n",
        "    return self.weights * x + self.bias"
      ],
      "metadata": {
        "id": "xFY22zloXlM2"
      },
      "execution_count": 13,
      "outputs": []
    },
    {
      "cell_type": "markdown",
      "source": [
        "### PyTorch modules\n",
        "\n",
        "\n",
        "* torch.nn (all models)\n",
        "* torch.nn.parameter (.nn will take these parameters)\n",
        "\n",
        ">.nn will take these parameters\n",
        "\n",
        "* torch.nn.Module (The base class for all the neural network modules, if subclass then overwrite with forward())\n",
        "* torch.optim (help with GD)\n",
        "\n",
        "\n",
        "\n",
        "\n"
      ],
      "metadata": {
        "id": "A3GInKtyh5-m"
      }
    },
    {
      "cell_type": "markdown",
      "source": [
        "For creating data\n",
        "\n",
        "*  torchvision.transforms\n",
        "*  torch.utils.data.Dataset\n",
        "*  torch.utils.data.Dataloader\n",
        "\n",
        "Selecting A model\n",
        "\n",
        "*  torch.nn\n",
        "*  torch.nn.Module\n",
        "*  toechvision.models\n",
        "\n",
        "Optimization of model\n",
        "\n",
        "*  torch.optim\n",
        "\n",
        "Evaluation of model\n",
        "\n",
        "*  torchmetrics\n",
        "\n",
        "imporve through experiment\n",
        "\n",
        "*  torch.utils.tensorboard\n",
        "\n",
        "\n",
        "\n"
      ],
      "metadata": {
        "id": "Xc7FLvDnknwb"
      }
    },
    {
      "cell_type": "code",
      "source": [
        "# To check model parameters we can use .parameters()\n",
        "\n",
        "# Create randome seed\n",
        "\n",
        "torch.manual_seed(42) # if there is no random seed we get different value everytime\n",
        "\n",
        "# Create an instance of a model (this is a subclass of a nn.module)\n",
        "\n",
        "model_0 = LinearRegressionModel()\n",
        "model_0\n",
        "\n"
      ],
      "metadata": {
        "colab": {
          "base_uri": "https://localhost:8080/"
        },
        "id": "N_lJKlBhgq10",
        "outputId": "627b0f7f-bb0c-41a9-ccfd-757d4612f67a"
      },
      "execution_count": 14,
      "outputs": [
        {
          "output_type": "execute_result",
          "data": {
            "text/plain": [
              "LinearRegressionModel()"
            ]
          },
          "metadata": {},
          "execution_count": 14
        }
      ]
    },
    {
      "cell_type": "code",
      "source": [
        "#check the parameters\n",
        "\n",
        "model_0.parameters()"
      ],
      "metadata": {
        "colab": {
          "base_uri": "https://localhost:8080/"
        },
        "id": "oY-Cs6_SmbNH",
        "outputId": "8e0dbf2f-ceb9-4342-a504-96db525148c4"
      },
      "execution_count": 15,
      "outputs": [
        {
          "output_type": "execute_result",
          "data": {
            "text/plain": [
              "<generator object Module.parameters at 0x7900001dc430>"
            ]
          },
          "metadata": {},
          "execution_count": 15
        }
      ]
    },
    {
      "cell_type": "code",
      "source": [
        "#generator? so\n",
        "\n",
        "list(model_0.parameters())"
      ],
      "metadata": {
        "colab": {
          "base_uri": "https://localhost:8080/"
        },
        "id": "UY_fEZAPnn0W",
        "outputId": "ebf29fe1-eac2-438e-f05b-883f235a37f4"
      },
      "execution_count": 16,
      "outputs": [
        {
          "output_type": "execute_result",
          "data": {
            "text/plain": [
              "[Parameter containing:\n",
              " tensor([0.3367], requires_grad=True),\n",
              " Parameter containing:\n",
              " tensor([0.1288], requires_grad=True)]"
            ]
          },
          "metadata": {},
          "execution_count": 16
        }
      ]
    },
    {
      "cell_type": "code",
      "source": [
        "#List the name parameters\n",
        "\n",
        "model_0.state_dict()"
      ],
      "metadata": {
        "colab": {
          "base_uri": "https://localhost:8080/"
        },
        "id": "eLfQGHNKnr9U",
        "outputId": "6070a313-9273-492f-a505-b10a1640693b"
      },
      "execution_count": 17,
      "outputs": [
        {
          "output_type": "execute_result",
          "data": {
            "text/plain": [
              "OrderedDict([('weights', tensor([0.3367])), ('bias', tensor([0.1288]))])"
            ]
          },
          "metadata": {},
          "execution_count": 17
        }
      ]
    },
    {
      "cell_type": "code",
      "source": [
        "# making prediction using torch.inference_mode()\n",
        "\n",
        "with torch.inference_mode():   # this will not track the gradient if you use .inference_mode()wit\n",
        "  y_preds = model_0(X_test)\n",
        "y_preds"
      ],
      "metadata": {
        "colab": {
          "base_uri": "https://localhost:8080/"
        },
        "id": "ERAz9W8fo_Ll",
        "outputId": "de321aa9-e819-4659-bdc4-83e1d1e3dd95"
      },
      "execution_count": 18,
      "outputs": [
        {
          "output_type": "execute_result",
          "data": {
            "text/plain": [
              "tensor([[0.3914],\n",
              "        [0.3982],\n",
              "        [0.4049],\n",
              "        [0.4116],\n",
              "        [0.4184],\n",
              "        [0.4251],\n",
              "        [0.4318],\n",
              "        [0.4386],\n",
              "        [0.4453],\n",
              "        [0.4520],\n",
              "        [0.4588]])"
            ]
          },
          "metadata": {},
          "execution_count": 18
        }
      ]
    },
    {
      "cell_type": "code",
      "source": [
        "plot_prediction(prediction= y_preds)"
      ],
      "metadata": {
        "colab": {
          "base_uri": "https://localhost:8080/",
          "height": 599
        },
        "id": "2W3sin5-q1UN",
        "outputId": "9e5e3225-1149-4086-bbbd-68413ecbf8b2"
      },
      "execution_count": 19,
      "outputs": [
        {
          "output_type": "display_data",
          "data": {
            "text/plain": [
              "<Figure size 1000x700 with 1 Axes>"
            ],
            "image/png": "[encoded data removed]"
          },
          "metadata": {}
        }
      ]
    },
    {
      "cell_type": "code",
      "source": [
        "with torch.no_grad():   # new method which runs your code faster\n",
        "  y_pred = model_0(X_test)\n",
        "\n",
        "y_pred"
      ],
      "metadata": {
        "colab": {
          "base_uri": "https://localhost:8080/"
        },
        "id": "pRZN_qBXrhQh",
        "outputId": "a4ce2a02-d15f-4425-de30-181896e79082"
      },
      "execution_count": 20,
      "outputs": [
        {
          "output_type": "execute_result",
          "data": {
            "text/plain": [
              "tensor([[0.3914],\n",
              "        [0.3982],\n",
              "        [0.4049],\n",
              "        [0.4116],\n",
              "        [0.4184],\n",
              "        [0.4251],\n",
              "        [0.4318],\n",
              "        [0.4386],\n",
              "        [0.4453],\n",
              "        [0.4520],\n",
              "        [0.4588]])"
            ]
          },
          "metadata": {},
          "execution_count": 20
        }
      ]
    },
    {
      "cell_type": "code",
      "source": [
        "list(model_0.parameters())"
      ],
      "metadata": {
        "colab": {
          "base_uri": "https://localhost:8080/"
        },
        "id": "1ItXHqQes8xN",
        "outputId": "b53ba224-1bcf-431b-c4ac-c6f4f77817e6"
      },
      "execution_count": 21,
      "outputs": [
        {
          "output_type": "execute_result",
          "data": {
            "text/plain": [
              "[Parameter containing:\n",
              " tensor([0.3367], requires_grad=True),\n",
              " Parameter containing:\n",
              " tensor([0.1288], requires_grad=True)]"
            ]
          },
          "metadata": {},
          "execution_count": 21
        }
      ]
    },
    {
      "cell_type": "code",
      "source": [
        "#make model to converge better to the data\n",
        "\n",
        "#loss function or cost function help us see fow model is performing. -- lower is better\n",
        "#optimizer adjust model parameters to improve loss function\n",
        "\n",
        "list(model_0.parameters())"
      ],
      "metadata": {
        "colab": {
          "base_uri": "https://localhost:8080/"
        },
        "id": "VAUNsN3Sufte",
        "outputId": "43b85a39-b935-45f0-a258-bff148947f74"
      },
      "execution_count": 22,
      "outputs": [
        {
          "output_type": "execute_result",
          "data": {
            "text/plain": [
              "[Parameter containing:\n",
              " tensor([0.3367], requires_grad=True),\n",
              " Parameter containing:\n",
              " tensor([0.1288], requires_grad=True)]"
            ]
          },
          "metadata": {},
          "execution_count": 22
        }
      ]
    },
    {
      "cell_type": "code",
      "source": [
        "model_0.state_dict()"
      ],
      "metadata": {
        "colab": {
          "base_uri": "https://localhost:8080/"
        },
        "id": "zt8Ng8XTwGI6",
        "outputId": "37c52fd4-f093-4ec9-f713-0e201f973c0d"
      },
      "execution_count": 23,
      "outputs": [
        {
          "output_type": "execute_result",
          "data": {
            "text/plain": [
              "OrderedDict([('weights', tensor([0.3367])), ('bias', tensor([0.1288]))])"
            ]
          },
          "metadata": {},
          "execution_count": 23
        }
      ]
    },
    {
      "cell_type": "markdown",
      "source": [
        "#Loss Fuction\n",
        "\n"
      ],
      "metadata": {
        "id": "BEqeplspyH5K"
      }
    },
    {
      "cell_type": "code",
      "source": [
        "loss_fn = nn.L1Loss()\n",
        "\n",
        "#Optimizer troch.optim\n",
        "\n",
        "optimizer = torch.optim.SGD(params = model_0.parameters(),\n",
        "                            lr = 0.00123) #lr leraning rate is a hyper parameter\n",
        "\n"
      ],
      "metadata": {
        "id": "ccFe81kEwRtV"
      },
      "execution_count": 24,
      "outputs": []
    },
    {
      "cell_type": "markdown",
      "source": [
        "# Building a training Loop"
      ],
      "metadata": {
        "id": "9y31wsNO0RlM"
      }
    },
    {
      "cell_type": "code",
      "source": [
        "epochs = 1000\n",
        "\n",
        "for epoch in range(epochs):\n",
        "  model_0.train() # train mode in Pytorch set gradient to true for tracking\n",
        "  y_pred = model_0(X_train)\n",
        "\n",
        "  loss = loss_fn(y_pred, y_train)\n",
        "  #print(f\"Loss : {loss}\")\n",
        "  optimizer.zero_grad()\n",
        "\n",
        "  loss.backward()\n",
        "\n",
        "  optimizer.step()\n",
        "  #print(f\"weight: {weight} and bias : {bias}\")\n",
        "  #print(model_0.state_dict())\n",
        "\n",
        "  model_0.eval() #turns off gradient tracking\n",
        "\n",
        "  with torch.inference_mode():\n",
        "    test_pred = model_0(X_test)\n",
        "\n",
        "    test_loss = loss_fn(test_pred, y_test)\n",
        "  if epoch % 100 == 0:\n",
        "    print(f\"Epoch : {epoch} | Loss: {loss} | Test loss: {test_loss}\")\n",
        "    print(f\"{model_0.state_dict()}\")"
      ],
      "metadata": {
        "colab": {
          "base_uri": "https://localhost:8080/"
        },
        "id": "ERuzLK7uySf3",
        "outputId": "38314cc8-eeb0-4a78-e2ee-08d8c206ca73"
      },
      "execution_count": 25,
      "outputs": [
        {
          "output_type": "stream",
          "name": "stderr",
          "text": [
            "/usr/local/lib/python3.10/dist-packages/torch/nn/modules/loss.py:101: UserWarning: Using a target size (torch.Size([37])) that is different to the input size (torch.Size([37, 1])). This will likely lead to incorrect results due to broadcasting. Please ensure they have the same size.\n",
            "  return F.l1_loss(input, target, reduction=self.reduction)\n",
            "/usr/local/lib/python3.10/dist-packages/torch/nn/modules/loss.py:101: UserWarning: Using a target size (torch.Size([11])) that is different to the input size (torch.Size([11, 1])). This will likely lead to incorrect results due to broadcasting. Please ensure they have the same size.\n",
            "  return F.l1_loss(input, target, reduction=self.reduction)\n"
          ]
        },
        {
          "output_type": "stream",
          "name": "stdout",
          "text": [
            "Epoch : 0 | Loss: 0.30337345600128174 | Test loss: 0.48938512802124023\n",
            "OrderedDict([('weights', tensor([0.3371])), ('bias', tensor([0.1300]))])\n",
            "Epoch : 100 | Loss: 0.20905035734176636 | Test loss: 0.3590753972530365\n",
            "OrderedDict([('weights', tensor([0.3692])), ('bias', tensor([0.2320]))])\n",
            "Epoch : 200 | Loss: 0.16714462637901306 | Test loss: 0.2754225730895996\n",
            "OrderedDict([('weights', tensor([0.3861])), ('bias', tensor([0.3008]))])\n",
            "Epoch : 300 | Loss: 0.15203285217285156 | Test loss: 0.22764132916927338\n",
            "OrderedDict([('weights', tensor([0.3928])), ('bias', tensor([0.3427]))])\n",
            "Epoch : 400 | Loss: 0.1465383619070053 | Test loss: 0.20139826834201813\n",
            "OrderedDict([('weights', tensor([0.3935])), ('bias', tensor([0.3683]))])\n",
            "Epoch : 500 | Loss: 0.14432218670845032 | Test loss: 0.18768909573554993\n",
            "OrderedDict([('weights', tensor([0.3908])), ('bias', tensor([0.3844]))])\n",
            "Epoch : 600 | Loss: 0.1432330459356308 | Test loss: 0.18125087022781372\n",
            "OrderedDict([('weights', tensor([0.3862])), ('bias', tensor([0.3949]))])\n",
            "Epoch : 700 | Loss: 0.14253640174865723 | Test loss: 0.17902255058288574\n",
            "OrderedDict([('weights', tensor([0.3805])), ('bias', tensor([0.4022]))])\n",
            "Epoch : 800 | Loss: 0.1419874131679535 | Test loss: 0.1791619509458542\n",
            "OrderedDict([('weights', tensor([0.3742])), ('bias', tensor([0.4075]))])\n",
            "Epoch : 900 | Loss: 0.14149630069732666 | Test loss: 0.18063923716545105\n",
            "OrderedDict([('weights', tensor([0.3677])), ('bias', tensor([0.4118]))])\n"
          ]
        }
      ]
    },
    {
      "cell_type": "code",
      "source": [
        " #Testing\n",
        "\n",
        "model_0.eval()\n",
        "\n",
        "y_pred = model_0(X_test)\n",
        "\n",
        "plot_prediction(prediction= y_preds)"
      ],
      "metadata": {
        "colab": {
          "base_uri": "https://localhost:8080/",
          "height": 599
        },
        "id": "Hw8j0g5RBH_s",
        "outputId": "a4bf2f1b-02bc-468a-a479-29a251a2724f"
      },
      "execution_count": 26,
      "outputs": [
        {
          "output_type": "display_data",
          "data": {
            "text/plain": [
              "<Figure size 1000x700 with 1 Axes>"
            ],
            "image/png": "[encoded data removed]"
          },
          "metadata": {}
        }
      ]
    },
    {
      "cell_type": "code",
      "source": [
        "list(model_0.parameters())"
      ],
      "metadata": {
        "colab": {
          "base_uri": "https://localhost:8080/"
        },
        "id": "t8MOEalpLiPP",
        "outputId": "3bdcf930-78af-4958-f827-753fd227f993"
      },
      "execution_count": 27,
      "outputs": [
        {
          "output_type": "execute_result",
          "data": {
            "text/plain": [
              "[Parameter containing:\n",
              " tensor([0.3612], requires_grad=True),\n",
              " Parameter containing:\n",
              " tensor([0.4151], requires_grad=True)]"
            ]
          },
          "metadata": {},
          "execution_count": 27
        }
      ]
    },
    {
      "cell_type": "code",
      "source": [
        "model_0.state_dict()"
      ],
      "metadata": {
        "colab": {
          "base_uri": "https://localhost:8080/"
        },
        "id": "Q1A6GSXtLlR0",
        "outputId": "cc05394e-11ef-4957-9f3c-86bf22da70f3"
      },
      "execution_count": 28,
      "outputs": [
        {
          "output_type": "execute_result",
          "data": {
            "text/plain": [
              "OrderedDict([('weights', tensor([0.3612])), ('bias', tensor([0.4151]))])"
            ]
          },
          "metadata": {},
          "execution_count": 28
        }
      ]
    },
    {
      "cell_type": "code",
      "source": [
        "with torch.inference_mode():\n",
        "  y_preds_new  = model_0(X_test)\n",
        "\n",
        "plot_prediction(prediction= y_preds_new)"
      ],
      "metadata": {
        "colab": {
          "base_uri": "https://localhost:8080/",
          "height": 599
        },
        "id": "gTMvCRG1Lzps",
        "outputId": "30138ec4-93dc-4f80-dd4a-fe2e8c3dbf35"
      },
      "execution_count": 29,
      "outputs": [
        {
          "output_type": "display_data",
          "data": {
            "text/plain": [
              "<Figure size 1000x700 with 1 Axes>"
            ],
            "image/png": "[encoded data removed]"
          },
          "metadata": {}
        }
      ]
    },
    {
      "cell_type": "code",
      "source": [
        "with torch.inference_mode():\n",
        "  y_preds_new  = model_0(X_test)\n",
        "\n",
        "plot_prediction(prediction = y_preds_new)"
      ],
      "metadata": {
        "colab": {
          "base_uri": "https://localhost:8080/",
          "height": 599
        },
        "id": "e1tKu4EIPrMQ",
        "outputId": "4cc42175-6ac1-4927-8f23-0513b3d397f8"
      },
      "execution_count": 33,
      "outputs": [
        {
          "output_type": "display_data",
          "data": {
            "text/plain": [
              "<Figure size 1000x700 with 1 Axes>"
            ],
            "image/png": "[encoded data removed]"
          },
          "metadata": {}
        }
      ]
    },
    {
      "cell_type": "code",
      "source": [
        "with torch.inference_mode():\n",
        "  y_preds_new  = model_0(X_test)\n",
        "\n",
        "plot_prediction(prediction = y_preds)"
      ],
      "metadata": {
        "colab": {
          "base_uri": "https://localhost:8080/",
          "height": 599
        },
        "id": "JiFzWfGJRAlG",
        "outputId": "29894507-393d-49f1-d869-738a75c94725"
      },
      "execution_count": 34,
      "outputs": [
        {
          "output_type": "display_data",
          "data": {
            "text/plain": [
              "<Figure size 1000x700 with 1 Axes>"
            ],
            "image/png": "[encoded data removed]"
          },
          "metadata": {}
        }
      ]
    },
    {
      "cell_type": "code",
      "source": [],
      "metadata": {
        "id": "uhThyeq9TM2N"
      },
      "execution_count": null,
      "outputs": []
    }
  ]
}