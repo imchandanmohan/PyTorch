{
  "nbformat": 4,
  "nbformat_minor": 0,
  "metadata": {
    "colab": {
      "provenance": [],
      "toc_visible": true,
      "authorship_tag": "ABX9TyPKFGStPLS3eYew+vDRknsY",
      "include_colab_link": true
    },
    "kernelspec": {
      "name": "python3",
      "display_name": "Python 3"
    },
    "language_info": {
      "name": "python"
    }
  },
  "cells": [
    {
      "cell_type": "markdown",
      "metadata": {
        "id": "view-in-github",
        "colab_type": "text"
      },
      "source": [
        "<a href=\"https://colab.research.google.com/github/imchandanmohan/PyTorch/blob/main/Pytorch_Workflow.ipynb\" target=\"_parent\"><img src=\"https://colab.research.google.com/assets/colab-badge.svg\" alt=\"Open In Colab\"/></a>"
      ]
    },
    {
      "cell_type": "code",
      "source": [
        "what_we_are_covering = {1: \"prepare and loading data\",\n",
        "                        2: \"build model\",\n",
        "                        3: \"\"}"
      ],
      "metadata": {
        "id": "Cq2iMGuCDtX6"
      },
      "execution_count": 1,
      "outputs": []
    },
    {
      "cell_type": "code",
      "source": [
        "import torch\n",
        "from torch import nn # url for documentation https://pytorch.org/docs/stable/nn.html it contains the bulidning blocks for creating neural network\n",
        "import matplotlib.pyplot as plt\n",
        "\n",
        "#check the Pytorch version\n",
        "\n",
        "torch.__version__"
      ],
      "metadata": {
        "colab": {
          "base_uri": "https://localhost:8080/",
          "height": 35
        },
        "id": "BTRuMAhMEHF3",
        "outputId": "19862ac7-a079-430e-e715-6517f12b7330"
      },
      "execution_count": 2,
      "outputs": [
        {
          "output_type": "execute_result",
          "data": {
            "text/plain": [
              "'2.2.1+cu121'"
            ],
            "application/vnd.google.colaboratory.intrinsic+json": {
              "type": "string"
            }
          },
          "metadata": {},
          "execution_count": 2
        }
      ]
    },
    {
      "cell_type": "markdown",
      "source": [
        "## Data (Preparing and loading)\n",
        "\n",
        "\n",
        "1) Data can be anything but we are going to convert to numerical representation\n",
        "\n",
        "2) Build model to learn the patterns in numbers"
      ],
      "metadata": {
        "id": "RKxp39qhFlWh"
      }
    },
    {
      "cell_type": "code",
      "source": [
        "# Lets create a linear regression model and the fuction is \"y = a + bx\"\n",
        "# a is intercept, b is weight and x is a parameter\n",
        "# Create a \"known\" parameters or features or data\n",
        "\n",
        "weight = 0.7 #b\n",
        "bias = 0.3   #a\n",
        "\n",
        "#lets create a data\n",
        "\n",
        "start = 0\n",
        "end = 1\n",
        "step = 0.02\n",
        "\n",
        "\n",
        "# X = torch.arange(start, end, step)  # capital X represents matrix and lowercase will be a vector\n",
        "\n",
        "# Toggle between these two to check the graph\n",
        "\n",
        "X = torch.rand(50)"
      ],
      "metadata": {
        "id": "p37vv4fzGCBU"
      },
      "execution_count": 3,
      "outputs": []
    },
    {
      "cell_type": "code",
      "source": [
        "print(X)"
      ],
      "metadata": {
        "colab": {
          "base_uri": "https://localhost:8080/"
        },
        "id": "oaNi_roqILpO",
        "outputId": "3e150cb9-3cc3-43b5-eb74-40831694d314"
      },
      "execution_count": 4,
      "outputs": [
        {
          "output_type": "stream",
          "name": "stdout",
          "text": [
            "tensor([0.3455, 0.0217, 0.8290, 0.5509, 0.8550, 0.9946, 0.9342, 0.3274, 0.3374,\n",
            "        0.1671, 0.8598, 0.7377, 0.3148, 0.3184, 0.9177, 0.0131, 0.0756, 0.2509,\n",
            "        0.2304, 0.1821, 0.5173, 0.3452, 0.9174, 0.0506, 0.1990, 0.3632, 0.5461,\n",
            "        0.1895, 0.2677, 0.8268, 0.7959, 0.3401, 0.8314, 0.3794, 0.9673, 0.4722,\n",
            "        0.0665, 0.4729, 0.1085, 0.5142, 0.3484, 0.8691, 0.7955, 0.2504, 0.4263,\n",
            "        0.6982, 0.9593, 0.1093, 0.2124, 0.4213])\n"
          ]
        }
      ]
    },
    {
      "cell_type": "code",
      "source": [
        "y = bias + (weight * X) # a + bx"
      ],
      "metadata": {
        "id": "vLB2E86fIP9A"
      },
      "execution_count": 5,
      "outputs": []
    },
    {
      "cell_type": "code",
      "source": [
        "print(y)"
      ],
      "metadata": {
        "colab": {
          "base_uri": "https://localhost:8080/"
        },
        "id": "XaVf9Td5Ijwv",
        "outputId": "c2752180-6fc8-4f22-fd11-b5debbe43da0"
      },
      "execution_count": 6,
      "outputs": [
        {
          "output_type": "stream",
          "name": "stdout",
          "text": [
            "tensor([0.5418, 0.3152, 0.8803, 0.6856, 0.8985, 0.9962, 0.9540, 0.5292, 0.5362,\n",
            "        0.4170, 0.9019, 0.8164, 0.5203, 0.5229, 0.9424, 0.3091, 0.3529, 0.4756,\n",
            "        0.4613, 0.4274, 0.6621, 0.5416, 0.9422, 0.3354, 0.4393, 0.5542, 0.6823,\n",
            "        0.4327, 0.4874, 0.8787, 0.8571, 0.5381, 0.8820, 0.5656, 0.9771, 0.6305,\n",
            "        0.3466, 0.6310, 0.3760, 0.6599, 0.5439, 0.9084, 0.8568, 0.4753, 0.5984,\n",
            "        0.7887, 0.9715, 0.3765, 0.4487, 0.5949])\n"
          ]
        }
      ]
    },
    {
      "cell_type": "code",
      "source": [
        "X [:10], y[:10]"
      ],
      "metadata": {
        "colab": {
          "base_uri": "https://localhost:8080/"
        },
        "id": "xU0jx3lKIlON",
        "outputId": "f522d51b-2d0a-4268-e972-c8fa3c8dd412"
      },
      "execution_count": 7,
      "outputs": [
        {
          "output_type": "execute_result",
          "data": {
            "text/plain": [
              "(tensor([0.3455, 0.0217, 0.8290, 0.5509, 0.8550, 0.9946, 0.9342, 0.3274, 0.3374,\n",
              "         0.1671]),\n",
              " tensor([0.5418, 0.3152, 0.8803, 0.6856, 0.8985, 0.9962, 0.9540, 0.5292, 0.5362,\n",
              "         0.4170]))"
            ]
          },
          "metadata": {},
          "execution_count": 7
        }
      ]
    },
    {
      "cell_type": "markdown",
      "source": [
        "From the above cell we have y which was generate by X and we know the reson for the value ***0.3140*** for the second value of x whihc is ***0.0200*** and there relation is 0.3 + (0.7 * 0.0200)\n",
        "\n",
        "\n",
        "\n",
        ">\"*Our goal is to find this equation using machine learning*\"\n",
        "\n",
        "\n",
        "\n",
        "\n",
        "\n",
        "\n"
      ],
      "metadata": {
        "id": "2IckpUAGI355"
      }
    },
    {
      "cell_type": "code",
      "source": [
        "X = torch.arange(start, end, step).unsqueeze(dim=1) # we will add one more dimension to the tensor values for woring with model which makes up with [[]]\n",
        "print(X[:5])"
      ],
      "metadata": {
        "colab": {
          "base_uri": "https://localhost:8080/"
        },
        "id": "VanIjFPoIvNQ",
        "outputId": "0ad38252-a348-4635-a9e7-fb92b54291f2"
      },
      "execution_count": 8,
      "outputs": [
        {
          "output_type": "stream",
          "name": "stdout",
          "text": [
            "tensor([[0.0000],\n",
            "        [0.0200],\n",
            "        [0.0400],\n",
            "        [0.0600],\n",
            "        [0.0800]])\n"
          ]
        }
      ]
    },
    {
      "cell_type": "markdown",
      "source": [
        "# Splitting Data\n",
        "\n",
        "\n",
        "\n",
        "1.   Training Set\n",
        "2.   Validation Set \"*we will iterate the process until it does well on validation set before we perform on Test Set*\"\n",
        "3.   Test Set \"see if model is ready for genralization\"\n",
        "\n",
        "Main goal is to send genralize the model and see how weel it perform on unseen data\n",
        "\n",
        "\n",
        "**100 samples -> 70 : 15 : 15**\n",
        "\n",
        "\n",
        "\n"
      ],
      "metadata": {
        "id": "Rw7g6OZdLnmJ"
      }
    },
    {
      "cell_type": "code",
      "source": [
        "# Create train/validate/test split\n",
        "print(f\"Total number of sample in X is {len(X)}\")\n",
        "train_spilt_sample = int(0.75*len(X)) # 78% for training\n",
        "validate_split_sample = int(0.05 * len(X))  # 5% for validation\n",
        "test_split_sample = int(len(X) - (train_spilt_sample + validate_split_sample))\n",
        "\n",
        "print(f\"sample of train is {train_spilt_sample}, validataion sample is {validate_split_sample} and test sample is {test_split_sample} and there total is {train_spilt_sample + validate_split_sample + test_split_sample}\")\n"
      ],
      "metadata": {
        "colab": {
          "base_uri": "https://localhost:8080/"
        },
        "id": "jpZIvRRBKc0z",
        "outputId": "4903e8a5-e3d7-4e4c-c89e-c127a0daac9f"
      },
      "execution_count": 9,
      "outputs": [
        {
          "output_type": "stream",
          "name": "stdout",
          "text": [
            "Total number of sample in X is 50\n",
            "sample of train is 37, validataion sample is 2 and test sample is 11 and there total is 50\n"
          ]
        }
      ]
    },
    {
      "cell_type": "code",
      "source": [
        "#Sklearn library can help us in spliting the sample like below one and also can add randomness in selecting sample\n",
        "X_train, y_train = X[ : train_spilt_sample], y[ : train_spilt_sample]\n",
        "X_validate, y_validate = X[train_spilt_sample : train_spilt_sample+validate_split_sample], y[train_spilt_sample : train_spilt_sample+validate_split_sample]\n",
        "X_test,  y_test = X[train_spilt_sample+validate_split_sample : ], y[train_spilt_sample+validate_split_sample : ]\n",
        "\n",
        "len(X_train), len(X_validate), len(X_test), len(y_train), len(y_validate), len(y_test)"
      ],
      "metadata": {
        "colab": {
          "base_uri": "https://localhost:8080/"
        },
        "id": "R5d592T7N55A",
        "outputId": "2094209e-1242-4b4e-d64a-25485953d6b0"
      },
      "execution_count": 10,
      "outputs": [
        {
          "output_type": "execute_result",
          "data": {
            "text/plain": [
              "(37, 2, 11, 37, 2, 11)"
            ]
          },
          "metadata": {},
          "execution_count": 10
        }
      ]
    },
    {
      "cell_type": "code",
      "source": [
        "# Visulize sample on the Page\n",
        "\n",
        "def plot_prediction(train_data =X_train,\n",
        "                    train_label = y_train,\n",
        "                    validate_data = X_validate,\n",
        "                    validate_label = y_validate,\n",
        "                    test_data = X_test,\n",
        "                    test_label = y_test,\n",
        "                    prediction = None):\n",
        "  \"\"\"\n",
        "  Plots all the samples\n",
        "  \"\"\"\n",
        "  plt.figure(figsize = (10,7))\n",
        "\n",
        "  #plot training data in blue\n",
        "  plt.scatter(train_data, train_label, s = 1, c = \"b\", label = \"Training sample\")\n",
        "\n",
        "  #plot validation data in red\n",
        "  plt.scatter(validate_data,validate_label, s = 4, c = \"#FF007F\", label = \"validation sample\")\n",
        "\n",
        "  #plot test data in green\n",
        "  plt.scatter(test_data,test_label, s = 4, c = \"g\", label = \"Test sample\")\n",
        "\n",
        "  #Are there prediction\n",
        "\n",
        "  if prediction is not None:\n",
        "\n",
        "    #Plot predictions\n",
        "    plt.scatter(test_data, prediction, s = 4, c = \"r\", label = \"prediction\")\n",
        "\n",
        "  #show legends\n",
        "  plt.legend( prop = { \"size\" : 14 } );\n"
      ],
      "metadata": {
        "id": "hyZclTSFR6mC"
      },
      "execution_count": 11,
      "outputs": []
    },
    {
      "cell_type": "code",
      "source": [
        "plot_prediction()"
      ],
      "metadata": {
        "colab": {
          "base_uri": "https://localhost:8080/",
          "height": 599
        },
        "id": "6Y7RuwkUVJwR",
        "outputId": "1c03dc48-cdef-47b1-fd67-ce87e4928912"
      },
      "execution_count": 12,
      "outputs": [
        {
          "output_type": "display_data",
          "data": {
            "text/plain": [
              "<Figure size 1000x700 with 1 Axes>"
            ],
            "image/png": "[encoded data removed]"
          },
          "metadata": {}
        }
      ]
    },
    {
      "cell_type": "markdown",
      "source": [
        "# Build Model"
      ],
      "metadata": {
        "id": "2IHHcedRa3pl"
      }
    },
    {
      "cell_type": "code",
      "source": [
        "#Create linear regression model class\n",
        "\n",
        "class LinearRegressionModel(nn.Module): #we are inheriting nn.Model class in this\n",
        "  def __init__(self):\n",
        "    super().__init__()\n",
        "    self.weights = nn.Parameter(torch.randn(1,\n",
        "                                            requires_grad = True,\n",
        "                                            dtype = torch.float))\n",
        "\n",
        "    self.bias = nn.Parameter(torch.randn(1,\n",
        "                                         requires_grad = True,\n",
        "                                         dtype = torch.float))\n",
        "  # Forward method to define the computation in the model\n",
        "  def forward(self, x: torch.Tensor) -> torch.Tensor:\n",
        "    return self.weights * x + self.bias"
      ],
      "metadata": {
        "id": "xFY22zloXlM2"
      },
      "execution_count": 13,
      "outputs": []
    },
    {
      "cell_type": "markdown",
      "source": [
        "### PyTorch modules\n",
        "\n",
        "\n",
        "* torch.nn (all models)\n",
        "* torch.nn.parameter (.nn will take these parameters)\n",
        "\n",
        ">.nn will take these parameters\n",
        "\n",
        "* torch.nn.Module (The base class for all the neural network modules, if subclass then overwrite with forward())\n",
        "* torch.optim (help with GD)\n",
        "\n",
        "\n",
        "\n",
        "\n"
      ],
      "metadata": {
        "id": "A3GInKtyh5-m"
      }
    },
    {
      "cell_type": "markdown",
      "source": [
        "For creating data\n",
        "\n",
        "*  torchvision.transforms\n",
        "*  torch.utils.data.Dataset\n",
        "*  torch.utils.data.Dataloader\n",
        "\n",
        "Selecting A model\n",
        "\n",
        "*  torch.nn\n",
        "*  torch.nn.Module\n",
        "*  toechvision.models\n",
        "\n",
        "Optimization of model\n",
        "\n",
        "*  torch.optim\n",
        "\n",
        "Evaluation of model\n",
        "\n",
        "*  torchmetrics\n",
        "\n",
        "imporve through experiment\n",
        "\n",
        "*  torch.utils.tensorboard\n",
        "\n",
        "\n",
        "\n"
      ],
      "metadata": {
        "id": "Xc7FLvDnknwb"
      }
    },
    {
      "cell_type": "code",
      "source": [
        "# To check model parameters we can use .parameters()\n",
        "\n",
        "# Create randome seed\n",
        "\n",
        "torch.manual_seed(42) # if there is no random seed we get different value everytime\n",
        "\n",
        "# Create an instance of a model (this is a subclass of a nn.module)\n",
        "\n",
        "model_0 = LinearRegressionModel()\n",
        "model_0\n",
        "\n"
      ],
      "metadata": {
        "colab": {
          "base_uri": "https://localhost:8080/"
        },
        "id": "N_lJKlBhgq10",
        "outputId": "632ea440-2fc8-453e-ad3f-9dba7f7a50b4"
      },
      "execution_count": 14,
      "outputs": [
        {
          "output_type": "execute_result",
          "data": {
            "text/plain": [
              "LinearRegressionModel()"
            ]
          },
          "metadata": {},
          "execution_count": 14
        }
      ]
    },
    {
      "cell_type": "code",
      "source": [
        "#check the parameters\n",
        "\n",
        "model_0.parameters()"
      ],
      "metadata": {
        "colab": {
          "base_uri": "https://localhost:8080/"
        },
        "id": "oY-Cs6_SmbNH",
        "outputId": "95f660b9-7033-4a97-e915-7c858da03695"
      },
      "execution_count": 15,
      "outputs": [
        {
          "output_type": "execute_result",
          "data": {
            "text/plain": [
              "<generator object Module.parameters at 0x79ee3301c2e0>"
            ]
          },
          "metadata": {},
          "execution_count": 15
        }
      ]
    },
    {
      "cell_type": "code",
      "source": [
        "#generator? so\n",
        "\n",
        "list(model_0.parameters())"
      ],
      "metadata": {
        "colab": {
          "base_uri": "https://localhost:8080/"
        },
        "id": "UY_fEZAPnn0W",
        "outputId": "440912d7-e2ab-4473-eda9-f0a354b16c90"
      },
      "execution_count": 16,
      "outputs": [
        {
          "output_type": "execute_result",
          "data": {
            "text/plain": [
              "[Parameter containing:\n",
              " tensor([0.3367], requires_grad=True),\n",
              " Parameter containing:\n",
              " tensor([0.1288], requires_grad=True)]"
            ]
          },
          "metadata": {},
          "execution_count": 16
        }
      ]
    },
    {
      "cell_type": "code",
      "source": [
        "#List the name parameters\n",
        "\n",
        "model_0.state_dict()"
      ],
      "metadata": {
        "colab": {
          "base_uri": "https://localhost:8080/"
        },
        "id": "eLfQGHNKnr9U",
        "outputId": "e010113f-02ea-4a76-9ea2-5eaf438a59e9"
      },
      "execution_count": 17,
      "outputs": [
        {
          "output_type": "execute_result",
          "data": {
            "text/plain": [
              "OrderedDict([('weights', tensor([0.3367])), ('bias', tensor([0.1288]))])"
            ]
          },
          "metadata": {},
          "execution_count": 17
        }
      ]
    },
    {
      "cell_type": "code",
      "source": [
        "# making prediction using torch.inference_mode()\n",
        "\n",
        "with torch.inference_mode():   # this will not track the gradient if you use .inference_mode()wit\n",
        "  y_preds = model_0(X_test)\n",
        "y_preds"
      ],
      "metadata": {
        "colab": {
          "base_uri": "https://localhost:8080/"
        },
        "id": "ERAz9W8fo_Ll",
        "outputId": "61ba0c58-5eda-4ed9-c6e7-b6386c37d307"
      },
      "execution_count": 18,
      "outputs": [
        {
          "output_type": "execute_result",
          "data": {
            "text/plain": [
              "tensor([[0.3914],\n",
              "        [0.3982],\n",
              "        [0.4049],\n",
              "        [0.4116],\n",
              "        [0.4184],\n",
              "        [0.4251],\n",
              "        [0.4318],\n",
              "        [0.4386],\n",
              "        [0.4453],\n",
              "        [0.4520],\n",
              "        [0.4588]])"
            ]
          },
          "metadata": {},
          "execution_count": 18
        }
      ]
    },
    {
      "cell_type": "code",
      "source": [
        "plot_prediction(prediction= y_preds)"
      ],
      "metadata": {
        "colab": {
          "base_uri": "https://localhost:8080/",
          "height": 599
        },
        "id": "2W3sin5-q1UN",
        "outputId": "0e1cd76c-6e20-4362-e3e7-4ca1dd193335"
      },
      "execution_count": 19,
      "outputs": [
        {
          "output_type": "display_data",
          "data": {
            "text/plain": [
              "<Figure size 1000x700 with 1 Axes>"
            ],
            "image/png": "[encoded data removed]"
          },
          "metadata": {}
        }
      ]
    },
    {
      "cell_type": "code",
      "source": [
        "with torch.no_grad():   # new method which runs your code faster\n",
        "  y_pred = model_0(X_test)\n",
        "\n",
        "y_pred"
      ],
      "metadata": {
        "colab": {
          "base_uri": "https://localhost:8080/"
        },
        "id": "pRZN_qBXrhQh",
        "outputId": "003605d4-8380-4e27-db40-a7efe0aaab86"
      },
      "execution_count": 20,
      "outputs": [
        {
          "output_type": "execute_result",
          "data": {
            "text/plain": [
              "tensor([[0.3914],\n",
              "        [0.3982],\n",
              "        [0.4049],\n",
              "        [0.4116],\n",
              "        [0.4184],\n",
              "        [0.4251],\n",
              "        [0.4318],\n",
              "        [0.4386],\n",
              "        [0.4453],\n",
              "        [0.4520],\n",
              "        [0.4588]])"
            ]
          },
          "metadata": {},
          "execution_count": 20
        }
      ]
    },
    {
      "cell_type": "code",
      "source": [
        "list(model_0.parameters())"
      ],
      "metadata": {
        "colab": {
          "base_uri": "https://localhost:8080/"
        },
        "id": "1ItXHqQes8xN",
        "outputId": "d6dfd687-3965-4b48-e2de-146a66d95f35"
      },
      "execution_count": 21,
      "outputs": [
        {
          "output_type": "execute_result",
          "data": {
            "text/plain": [
              "[Parameter containing:\n",
              " tensor([0.3367], requires_grad=True),\n",
              " Parameter containing:\n",
              " tensor([0.1288], requires_grad=True)]"
            ]
          },
          "metadata": {},
          "execution_count": 21
        }
      ]
    },
    {
      "cell_type": "code",
      "source": [
        "#make model to converge better to the data\n",
        "\n",
        "#loss function or cost function help us see fow model is performing. -- lower is better\n",
        "#optimizer adjust model parameters to improve loss function\n",
        "\n",
        "list(model_0.parameters())"
      ],
      "metadata": {
        "colab": {
          "base_uri": "https://localhost:8080/"
        },
        "id": "VAUNsN3Sufte",
        "outputId": "dc8e4d05-eedc-45bd-fdd9-d3f6bfaf122e"
      },
      "execution_count": 22,
      "outputs": [
        {
          "output_type": "execute_result",
          "data": {
            "text/plain": [
              "[Parameter containing:\n",
              " tensor([0.3367], requires_grad=True),\n",
              " Parameter containing:\n",
              " tensor([0.1288], requires_grad=True)]"
            ]
          },
          "metadata": {},
          "execution_count": 22
        }
      ]
    },
    {
      "cell_type": "code",
      "source": [
        "model_0.state_dict()"
      ],
      "metadata": {
        "colab": {
          "base_uri": "https://localhost:8080/"
        },
        "id": "zt8Ng8XTwGI6",
        "outputId": "3c633d1d-9536-4377-d5c1-3ae023a59965"
      },
      "execution_count": 23,
      "outputs": [
        {
          "output_type": "execute_result",
          "data": {
            "text/plain": [
              "OrderedDict([('weights', tensor([0.3367])), ('bias', tensor([0.1288]))])"
            ]
          },
          "metadata": {},
          "execution_count": 23
        }
      ]
    },
    {
      "cell_type": "markdown",
      "source": [
        "#Loss Fuction\n",
        "\n"
      ],
      "metadata": {
        "id": "BEqeplspyH5K"
      }
    },
    {
      "cell_type": "code",
      "source": [
        "loss_fn = nn.L1Loss()\n",
        "\n",
        "#Optimizer troch.optim\n",
        "\n",
        "optimizer = torch.optim.SGD(params = model_0.parameters(),\n",
        "                            lr = 0.2) #lr leraning rate is a hyper parameter\n",
        "\n"
      ],
      "metadata": {
        "id": "ccFe81kEwRtV"
      },
      "execution_count": 61,
      "outputs": []
    },
    {
      "cell_type": "markdown",
      "source": [
        "# Building a training Loop"
      ],
      "metadata": {
        "id": "9y31wsNO0RlM"
      }
    },
    {
      "cell_type": "code",
      "source": [
        "epochs = 100\n",
        "\n",
        "for epoch in range(epochs):\n",
        "  model_0.train() # train mode in Pytorch set gradient to true for tracking\n",
        "  y_pred = model_0(X_train)\n",
        "\n",
        "  loss = loss_fn(y_pred, y_train)\n",
        "  print(f\"Loss : {loss}\")\n",
        "  optimizer.zero_grad()\n",
        "\n",
        "  loss.backward()\n",
        "\n",
        "  optimizer.step()\n",
        "  print(f\"weight: {weight} and bias : {bias}\")\n",
        "  print(model_0.state_dict())\n",
        "\n",
        "  #model_0.eval() #turns off gradient tracking\n"
      ],
      "metadata": {
        "colab": {
          "base_uri": "https://localhost:8080/"
        },
        "id": "ERuzLK7uySf3",
        "outputId": "22c48d5d-f2a9-4964-a72e-c527b063b482"
      },
      "execution_count": 62,
      "outputs": [
        {
          "output_type": "stream",
          "name": "stdout",
          "text": [
            "Loss : 0.18174093961715698\n",
            "weight: 0.7 and bias : 0.3\n",
            "OrderedDict([('weights', tensor([0.0183])), ('bias', tensor([0.5384]))])\n",
            "Loss : 0.1817299872636795\n",
            "weight: 0.7 and bias : 0.3\n",
            "OrderedDict([('weights', tensor([0.0168])), ('bias', tensor([0.5385]))])\n",
            "Loss : 0.18171915411949158\n",
            "weight: 0.7 and bias : 0.3\n",
            "OrderedDict([('weights', tensor([0.0154])), ('bias', tensor([0.5389]))])\n",
            "Loss : 0.18170826137065887\n",
            "weight: 0.7 and bias : 0.3\n",
            "OrderedDict([('weights', tensor([0.0139])), ('bias', tensor([0.5391]))])\n",
            "Loss : 0.18169735372066498\n",
            "weight: 0.7 and bias : 0.3\n",
            "OrderedDict([('weights', tensor([0.0125])), ('bias', tensor([0.5395]))])\n",
            "Loss : 0.18168652057647705\n",
            "weight: 0.7 and bias : 0.3\n",
            "OrderedDict([('weights', tensor([0.0111])), ('bias', tensor([0.5397]))])\n",
            "Loss : 0.18167558312416077\n",
            "weight: 0.7 and bias : 0.3\n",
            "OrderedDict([('weights', tensor([0.0096])), ('bias', tensor([0.5398]))])\n",
            "Loss : 0.18166491389274597\n",
            "weight: 0.7 and bias : 0.3\n",
            "OrderedDict([('weights', tensor([0.0082])), ('bias', tensor([0.5405]))])\n",
            "Loss : 0.18165485560894012\n",
            "weight: 0.7 and bias : 0.3\n",
            "OrderedDict([('weights', tensor([0.0066])), ('bias', tensor([0.5395]))])\n",
            "Loss : 0.18165422976016998\n",
            "weight: 0.7 and bias : 0.3\n",
            "OrderedDict([('weights', tensor([0.0062])), ('bias', tensor([0.5441]))])\n",
            "Loss : 0.18171578645706177\n",
            "weight: 0.7 and bias : 0.3\n",
            "OrderedDict([('weights', tensor([0.0043])), ('bias', tensor([0.5386]))])\n",
            "Loss : 0.18171794712543488\n",
            "weight: 0.7 and bias : 0.3\n",
            "OrderedDict([('weights', tensor([0.0097])), ('bias', tensor([0.5543]))])\n",
            "Loss : 0.18221628665924072\n",
            "weight: 0.7 and bias : 0.3\n",
            "OrderedDict([('weights', tensor([0.0039])), ('bias', tensor([0.5381]))])\n",
            "Loss : 0.1817772537469864\n",
            "weight: 0.7 and bias : 0.3\n",
            "OrderedDict([('weights', tensor([0.0097])), ('bias', tensor([0.5543]))])\n",
            "Loss : 0.18221628665924072\n",
            "weight: 0.7 and bias : 0.3\n",
            "OrderedDict([('weights', tensor([0.0039])), ('bias', tensor([0.5381]))])\n",
            "Loss : 0.1817772537469864\n",
            "weight: 0.7 and bias : 0.3\n",
            "OrderedDict([('weights', tensor([0.0097])), ('bias', tensor([0.5543]))])\n",
            "Loss : 0.18221628665924072\n",
            "weight: 0.7 and bias : 0.3\n",
            "OrderedDict([('weights', tensor([0.0039])), ('bias', tensor([0.5381]))])\n",
            "Loss : 0.1817772537469864\n",
            "weight: 0.7 and bias : 0.3\n",
            "OrderedDict([('weights', tensor([0.0097])), ('bias', tensor([0.5543]))])\n",
            "Loss : 0.18221628665924072\n",
            "weight: 0.7 and bias : 0.3\n",
            "OrderedDict([('weights', tensor([0.0039])), ('bias', tensor([0.5381]))])\n",
            "Loss : 0.1817772537469864\n",
            "weight: 0.7 and bias : 0.3\n",
            "OrderedDict([('weights', tensor([0.0097])), ('bias', tensor([0.5543]))])\n",
            "Loss : 0.18221628665924072\n",
            "weight: 0.7 and bias : 0.3\n",
            "OrderedDict([('weights', tensor([0.0039])), ('bias', tensor([0.5381]))])\n",
            "Loss : 0.1817772537469864\n",
            "weight: 0.7 and bias : 0.3\n",
            "OrderedDict([('weights', tensor([0.0097])), ('bias', tensor([0.5543]))])\n",
            "Loss : 0.18221628665924072\n",
            "weight: 0.7 and bias : 0.3\n",
            "OrderedDict([('weights', tensor([0.0039])), ('bias', tensor([0.5381]))])\n",
            "Loss : 0.1817772537469864\n",
            "weight: 0.7 and bias : 0.3\n",
            "OrderedDict([('weights', tensor([0.0097])), ('bias', tensor([0.5543]))])\n",
            "Loss : 0.18221628665924072\n",
            "weight: 0.7 and bias : 0.3\n",
            "OrderedDict([('weights', tensor([0.0039])), ('bias', tensor([0.5381]))])\n",
            "Loss : 0.1817772537469864\n",
            "weight: 0.7 and bias : 0.3\n",
            "OrderedDict([('weights', tensor([0.0097])), ('bias', tensor([0.5543]))])\n",
            "Loss : 0.18221628665924072\n",
            "weight: 0.7 and bias : 0.3\n",
            "OrderedDict([('weights', tensor([0.0039])), ('bias', tensor([0.5381]))])\n",
            "Loss : 0.1817772537469864\n",
            "weight: 0.7 and bias : 0.3\n",
            "OrderedDict([('weights', tensor([0.0097])), ('bias', tensor([0.5543]))])\n",
            "Loss : 0.18221628665924072\n",
            "weight: 0.7 and bias : 0.3\n",
            "OrderedDict([('weights', tensor([0.0039])), ('bias', tensor([0.5381]))])\n",
            "Loss : 0.1817772537469864\n",
            "weight: 0.7 and bias : 0.3\n",
            "OrderedDict([('weights', tensor([0.0097])), ('bias', tensor([0.5543]))])\n",
            "Loss : 0.18221628665924072\n",
            "weight: 0.7 and bias : 0.3\n",
            "OrderedDict([('weights', tensor([0.0039])), ('bias', tensor([0.5381]))])\n",
            "Loss : 0.1817772537469864\n",
            "weight: 0.7 and bias : 0.3\n",
            "OrderedDict([('weights', tensor([0.0097])), ('bias', tensor([0.5543]))])\n",
            "Loss : 0.18221628665924072\n",
            "weight: 0.7 and bias : 0.3\n",
            "OrderedDict([('weights', tensor([0.0039])), ('bias', tensor([0.5381]))])\n",
            "Loss : 0.1817772537469864\n",
            "weight: 0.7 and bias : 0.3\n",
            "OrderedDict([('weights', tensor([0.0097])), ('bias', tensor([0.5543]))])\n",
            "Loss : 0.18221628665924072\n",
            "weight: 0.7 and bias : 0.3\n",
            "OrderedDict([('weights', tensor([0.0039])), ('bias', tensor([0.5381]))])\n",
            "Loss : 0.1817772537469864\n",
            "weight: 0.7 and bias : 0.3\n",
            "OrderedDict([('weights', tensor([0.0097])), ('bias', tensor([0.5543]))])\n",
            "Loss : 0.18221628665924072\n",
            "weight: 0.7 and bias : 0.3\n",
            "OrderedDict([('weights', tensor([0.0039])), ('bias', tensor([0.5381]))])\n",
            "Loss : 0.1817772537469864\n",
            "weight: 0.7 and bias : 0.3\n",
            "OrderedDict([('weights', tensor([0.0097])), ('bias', tensor([0.5543]))])\n",
            "Loss : 0.18221628665924072\n",
            "weight: 0.7 and bias : 0.3\n",
            "OrderedDict([('weights', tensor([0.0039])), ('bias', tensor([0.5381]))])\n",
            "Loss : 0.1817772537469864\n",
            "weight: 0.7 and bias : 0.3\n",
            "OrderedDict([('weights', tensor([0.0097])), ('bias', tensor([0.5543]))])\n",
            "Loss : 0.18221628665924072\n",
            "weight: 0.7 and bias : 0.3\n",
            "OrderedDict([('weights', tensor([0.0039])), ('bias', tensor([0.5381]))])\n",
            "Loss : 0.1817772537469864\n",
            "weight: 0.7 and bias : 0.3\n",
            "OrderedDict([('weights', tensor([0.0097])), ('bias', tensor([0.5543]))])\n",
            "Loss : 0.18221628665924072\n",
            "weight: 0.7 and bias : 0.3\n",
            "OrderedDict([('weights', tensor([0.0039])), ('bias', tensor([0.5381]))])\n",
            "Loss : 0.1817772537469864\n",
            "weight: 0.7 and bias : 0.3\n",
            "OrderedDict([('weights', tensor([0.0097])), ('bias', tensor([0.5543]))])\n",
            "Loss : 0.18221628665924072\n",
            "weight: 0.7 and bias : 0.3\n",
            "OrderedDict([('weights', tensor([0.0039])), ('bias', tensor([0.5381]))])\n",
            "Loss : 0.1817772537469864\n",
            "weight: 0.7 and bias : 0.3\n",
            "OrderedDict([('weights', tensor([0.0097])), ('bias', tensor([0.5543]))])\n",
            "Loss : 0.18221628665924072\n",
            "weight: 0.7 and bias : 0.3\n",
            "OrderedDict([('weights', tensor([0.0039])), ('bias', tensor([0.5381]))])\n",
            "Loss : 0.1817772537469864\n",
            "weight: 0.7 and bias : 0.3\n",
            "OrderedDict([('weights', tensor([0.0097])), ('bias', tensor([0.5543]))])\n",
            "Loss : 0.18221628665924072\n",
            "weight: 0.7 and bias : 0.3\n",
            "OrderedDict([('weights', tensor([0.0039])), ('bias', tensor([0.5381]))])\n",
            "Loss : 0.1817772537469864\n",
            "weight: 0.7 and bias : 0.3\n",
            "OrderedDict([('weights', tensor([0.0097])), ('bias', tensor([0.5543]))])\n",
            "Loss : 0.18221628665924072\n",
            "weight: 0.7 and bias : 0.3\n",
            "OrderedDict([('weights', tensor([0.0039])), ('bias', tensor([0.5381]))])\n",
            "Loss : 0.1817772537469864\n",
            "weight: 0.7 and bias : 0.3\n",
            "OrderedDict([('weights', tensor([0.0097])), ('bias', tensor([0.5543]))])\n",
            "Loss : 0.18221628665924072\n",
            "weight: 0.7 and bias : 0.3\n",
            "OrderedDict([('weights', tensor([0.0039])), ('bias', tensor([0.5381]))])\n",
            "Loss : 0.1817772537469864\n",
            "weight: 0.7 and bias : 0.3\n",
            "OrderedDict([('weights', tensor([0.0097])), ('bias', tensor([0.5543]))])\n",
            "Loss : 0.18221628665924072\n",
            "weight: 0.7 and bias : 0.3\n",
            "OrderedDict([('weights', tensor([0.0039])), ('bias', tensor([0.5381]))])\n",
            "Loss : 0.1817772537469864\n",
            "weight: 0.7 and bias : 0.3\n",
            "OrderedDict([('weights', tensor([0.0097])), ('bias', tensor([0.5543]))])\n",
            "Loss : 0.18221628665924072\n",
            "weight: 0.7 and bias : 0.3\n",
            "OrderedDict([('weights', tensor([0.0039])), ('bias', tensor([0.5381]))])\n",
            "Loss : 0.1817772537469864\n",
            "weight: 0.7 and bias : 0.3\n",
            "OrderedDict([('weights', tensor([0.0097])), ('bias', tensor([0.5543]))])\n",
            "Loss : 0.18221628665924072\n",
            "weight: 0.7 and bias : 0.3\n",
            "OrderedDict([('weights', tensor([0.0039])), ('bias', tensor([0.5381]))])\n",
            "Loss : 0.1817772537469864\n",
            "weight: 0.7 and bias : 0.3\n",
            "OrderedDict([('weights', tensor([0.0097])), ('bias', tensor([0.5543]))])\n",
            "Loss : 0.18221628665924072\n",
            "weight: 0.7 and bias : 0.3\n",
            "OrderedDict([('weights', tensor([0.0039])), ('bias', tensor([0.5381]))])\n",
            "Loss : 0.1817772537469864\n",
            "weight: 0.7 and bias : 0.3\n",
            "OrderedDict([('weights', tensor([0.0097])), ('bias', tensor([0.5543]))])\n",
            "Loss : 0.18221628665924072\n",
            "weight: 0.7 and bias : 0.3\n",
            "OrderedDict([('weights', tensor([0.0039])), ('bias', tensor([0.5381]))])\n",
            "Loss : 0.1817772537469864\n",
            "weight: 0.7 and bias : 0.3\n",
            "OrderedDict([('weights', tensor([0.0097])), ('bias', tensor([0.5543]))])\n",
            "Loss : 0.18221628665924072\n",
            "weight: 0.7 and bias : 0.3\n",
            "OrderedDict([('weights', tensor([0.0039])), ('bias', tensor([0.5381]))])\n",
            "Loss : 0.1817772537469864\n",
            "weight: 0.7 and bias : 0.3\n",
            "OrderedDict([('weights', tensor([0.0097])), ('bias', tensor([0.5543]))])\n",
            "Loss : 0.18221628665924072\n",
            "weight: 0.7 and bias : 0.3\n",
            "OrderedDict([('weights', tensor([0.0039])), ('bias', tensor([0.5381]))])\n",
            "Loss : 0.1817772537469864\n",
            "weight: 0.7 and bias : 0.3\n",
            "OrderedDict([('weights', tensor([0.0097])), ('bias', tensor([0.5543]))])\n",
            "Loss : 0.18221628665924072\n",
            "weight: 0.7 and bias : 0.3\n",
            "OrderedDict([('weights', tensor([0.0039])), ('bias', tensor([0.5381]))])\n",
            "Loss : 0.1817772537469864\n",
            "weight: 0.7 and bias : 0.3\n",
            "OrderedDict([('weights', tensor([0.0097])), ('bias', tensor([0.5543]))])\n",
            "Loss : 0.18221628665924072\n",
            "weight: 0.7 and bias : 0.3\n",
            "OrderedDict([('weights', tensor([0.0039])), ('bias', tensor([0.5381]))])\n",
            "Loss : 0.1817772537469864\n",
            "weight: 0.7 and bias : 0.3\n",
            "OrderedDict([('weights', tensor([0.0097])), ('bias', tensor([0.5543]))])\n",
            "Loss : 0.18221628665924072\n",
            "weight: 0.7 and bias : 0.3\n",
            "OrderedDict([('weights', tensor([0.0039])), ('bias', tensor([0.5381]))])\n",
            "Loss : 0.1817772537469864\n",
            "weight: 0.7 and bias : 0.3\n",
            "OrderedDict([('weights', tensor([0.0097])), ('bias', tensor([0.5543]))])\n",
            "Loss : 0.18221628665924072\n",
            "weight: 0.7 and bias : 0.3\n",
            "OrderedDict([('weights', tensor([0.0039])), ('bias', tensor([0.5381]))])\n",
            "Loss : 0.1817772537469864\n",
            "weight: 0.7 and bias : 0.3\n",
            "OrderedDict([('weights', tensor([0.0097])), ('bias', tensor([0.5543]))])\n",
            "Loss : 0.18221628665924072\n",
            "weight: 0.7 and bias : 0.3\n",
            "OrderedDict([('weights', tensor([0.0039])), ('bias', tensor([0.5381]))])\n",
            "Loss : 0.1817772537469864\n",
            "weight: 0.7 and bias : 0.3\n",
            "OrderedDict([('weights', tensor([0.0097])), ('bias', tensor([0.5543]))])\n",
            "Loss : 0.18221628665924072\n",
            "weight: 0.7 and bias : 0.3\n",
            "OrderedDict([('weights', tensor([0.0039])), ('bias', tensor([0.5381]))])\n",
            "Loss : 0.1817772537469864\n",
            "weight: 0.7 and bias : 0.3\n",
            "OrderedDict([('weights', tensor([0.0097])), ('bias', tensor([0.5543]))])\n",
            "Loss : 0.18221628665924072\n",
            "weight: 0.7 and bias : 0.3\n",
            "OrderedDict([('weights', tensor([0.0039])), ('bias', tensor([0.5381]))])\n",
            "Loss : 0.1817772537469864\n",
            "weight: 0.7 and bias : 0.3\n",
            "OrderedDict([('weights', tensor([0.0097])), ('bias', tensor([0.5543]))])\n",
            "Loss : 0.18221628665924072\n",
            "weight: 0.7 and bias : 0.3\n",
            "OrderedDict([('weights', tensor([0.0039])), ('bias', tensor([0.5381]))])\n",
            "Loss : 0.1817772537469864\n",
            "weight: 0.7 and bias : 0.3\n",
            "OrderedDict([('weights', tensor([0.0097])), ('bias', tensor([0.5543]))])\n",
            "Loss : 0.18221628665924072\n",
            "weight: 0.7 and bias : 0.3\n",
            "OrderedDict([('weights', tensor([0.0039])), ('bias', tensor([0.5381]))])\n",
            "Loss : 0.1817772537469864\n",
            "weight: 0.7 and bias : 0.3\n",
            "OrderedDict([('weights', tensor([0.0097])), ('bias', tensor([0.5543]))])\n",
            "Loss : 0.18221628665924072\n",
            "weight: 0.7 and bias : 0.3\n",
            "OrderedDict([('weights', tensor([0.0039])), ('bias', tensor([0.5381]))])\n",
            "Loss : 0.1817772537469864\n",
            "weight: 0.7 and bias : 0.3\n",
            "OrderedDict([('weights', tensor([0.0097])), ('bias', tensor([0.5543]))])\n",
            "Loss : 0.18221628665924072\n",
            "weight: 0.7 and bias : 0.3\n",
            "OrderedDict([('weights', tensor([0.0039])), ('bias', tensor([0.5381]))])\n",
            "Loss : 0.1817772537469864\n",
            "weight: 0.7 and bias : 0.3\n",
            "OrderedDict([('weights', tensor([0.0097])), ('bias', tensor([0.5543]))])\n",
            "Loss : 0.18221628665924072\n",
            "weight: 0.7 and bias : 0.3\n",
            "OrderedDict([('weights', tensor([0.0039])), ('bias', tensor([0.5381]))])\n",
            "Loss : 0.1817772537469864\n",
            "weight: 0.7 and bias : 0.3\n",
            "OrderedDict([('weights', tensor([0.0097])), ('bias', tensor([0.5543]))])\n",
            "Loss : 0.18221628665924072\n",
            "weight: 0.7 and bias : 0.3\n",
            "OrderedDict([('weights', tensor([0.0039])), ('bias', tensor([0.5381]))])\n",
            "Loss : 0.1817772537469864\n",
            "weight: 0.7 and bias : 0.3\n",
            "OrderedDict([('weights', tensor([0.0097])), ('bias', tensor([0.5543]))])\n",
            "Loss : 0.18221628665924072\n",
            "weight: 0.7 and bias : 0.3\n",
            "OrderedDict([('weights', tensor([0.0039])), ('bias', tensor([0.5381]))])\n",
            "Loss : 0.1817772537469864\n",
            "weight: 0.7 and bias : 0.3\n",
            "OrderedDict([('weights', tensor([0.0097])), ('bias', tensor([0.5543]))])\n",
            "Loss : 0.18221628665924072\n",
            "weight: 0.7 and bias : 0.3\n",
            "OrderedDict([('weights', tensor([0.0039])), ('bias', tensor([0.5381]))])\n",
            "Loss : 0.1817772537469864\n",
            "weight: 0.7 and bias : 0.3\n",
            "OrderedDict([('weights', tensor([0.0097])), ('bias', tensor([0.5543]))])\n",
            "Loss : 0.18221628665924072\n",
            "weight: 0.7 and bias : 0.3\n",
            "OrderedDict([('weights', tensor([0.0039])), ('bias', tensor([0.5381]))])\n",
            "Loss : 0.1817772537469864\n",
            "weight: 0.7 and bias : 0.3\n",
            "OrderedDict([('weights', tensor([0.0097])), ('bias', tensor([0.5543]))])\n"
          ]
        }
      ]
    },
    {
      "cell_type": "code",
      "source": [
        "#Testing\n",
        "\n",
        "model_0.eval()\n",
        "\n",
        "y_pred = model_0(X_test)\n",
        "\n",
        "plot_prediction(prediction= y_preds)"
      ],
      "metadata": {
        "colab": {
          "base_uri": "https://localhost:8080/",
          "height": 599
        },
        "id": "Hw8j0g5RBH_s",
        "outputId": "f4401366-8fb1-4627-e223-abb351483353"
      },
      "execution_count": 63,
      "outputs": [
        {
          "output_type": "display_data",
          "data": {
            "text/plain": [
              "<Figure size 1000x700 with 1 Axes>"
            ],
            "image/png": "[encoded data removed]"
          },
          "metadata": {}
        }
      ]
    },
    {
      "cell_type": "code",
      "source": [
        "list(model_0.parameters())"
      ],
      "metadata": {
        "colab": {
          "base_uri": "https://localhost:8080/"
        },
        "id": "t8MOEalpLiPP",
        "outputId": "c920c239-bbce-4622-83e4-885d6b681e5b"
      },
      "execution_count": 64,
      "outputs": [
        {
          "output_type": "execute_result",
          "data": {
            "text/plain": [
              "[Parameter containing:\n",
              " tensor([0.0097], requires_grad=True),\n",
              " Parameter containing:\n",
              " tensor([0.5543], requires_grad=True)]"
            ]
          },
          "metadata": {},
          "execution_count": 64
        }
      ]
    },
    {
      "cell_type": "code",
      "source": [
        "model_0.state_dict()"
      ],
      "metadata": {
        "colab": {
          "base_uri": "https://localhost:8080/"
        },
        "id": "Q1A6GSXtLlR0",
        "outputId": "66e185f0-5f4c-4888-9e32-c0620967fca1"
      },
      "execution_count": 65,
      "outputs": [
        {
          "output_type": "execute_result",
          "data": {
            "text/plain": [
              "OrderedDict([('weights', tensor([0.0097])), ('bias', tensor([0.5543]))])"
            ]
          },
          "metadata": {},
          "execution_count": 65
        }
      ]
    },
    {
      "cell_type": "code",
      "source": [
        "with torch.inference_mode():\n",
        "  y_preds_new  = model_0(X_test)\n",
        "\n",
        "plot_prediction(prediction= y_preds_new)"
      ],
      "metadata": {
        "colab": {
          "base_uri": "https://localhost:8080/",
          "height": 599
        },
        "id": "gTMvCRG1Lzps",
        "outputId": "15f18880-bec6-482f-a18e-ac18ccfa3f0a"
      },
      "execution_count": 66,
      "outputs": [
        {
          "output_type": "display_data",
          "data": {
            "text/plain": [
              "<Figure size 1000x700 with 1 Axes>"
            ],
            "image/png": "[encoded data removed]"
          },
          "metadata": {}
        }
      ]
    },
    {
      "cell_type": "code",
      "source": [],
      "metadata": {
        "id": "e1tKu4EIPrMQ"
      },
      "execution_count": null,
      "outputs": []
    }
  ]
}