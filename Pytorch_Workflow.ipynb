{
  "nbformat": 4,
  "nbformat_minor": 0,
  "metadata": {
    "colab": {
      "provenance": [],
      "toc_visible": true,
      "authorship_tag": "ABX9TyO9mamUMGcXZJKi7R1/Py30",
      "include_colab_link": true
    },
    "kernelspec": {
      "name": "python3",
      "display_name": "Python 3"
    },
    "language_info": {
      "name": "python"
    }
  },
  "cells": [
    {
      "cell_type": "markdown",
      "metadata": {
        "id": "view-in-github",
        "colab_type": "text"
      },
      "source": [
        "<a href=\"https://colab.research.google.com/github/imchandanmohan/PyTorch/blob/main/Pytorch_Workflow.ipynb\" target=\"_parent\"><img src=\"https://colab.research.google.com/assets/colab-badge.svg\" alt=\"Open In Colab\"/></a>"
      ]
    },
    {
      "cell_type": "code",
      "source": [
        "what_we_are_covering = {1: \"prepare and loading data\",\n",
        "                        2: \"build model\",\n",
        "                        3: \"\"}"
      ],
      "metadata": {
        "id": "Cq2iMGuCDtX6"
      },
      "execution_count": 1,
      "outputs": []
    },
    {
      "cell_type": "code",
      "source": [
        "import torch\n",
        "from torch import nn # url for documentation https://pytorch.org/docs/stable/nn.html it contains the bulidning blocks for creating neural network\n",
        "import matplotlib.pyplot as plt\n",
        "\n",
        "#check the Pytorch version\n",
        "\n",
        "torch.__version__"
      ],
      "metadata": {
        "colab": {
          "base_uri": "https://localhost:8080/",
          "height": 35
        },
        "id": "BTRuMAhMEHF3",
        "outputId": "19862ac7-a079-430e-e715-6517f12b7330"
      },
      "execution_count": 2,
      "outputs": [
        {
          "output_type": "execute_result",
          "data": {
            "text/plain": [
              "'2.2.1+cu121'"
            ],
            "application/vnd.google.colaboratory.intrinsic+json": {
              "type": "string"
            }
          },
          "metadata": {},
          "execution_count": 2
        }
      ]
    },
    {
      "cell_type": "markdown",
      "source": [
        "## Data (Preparing and loading)\n",
        "\n",
        "\n",
        "1) Data can be anything but we are going to convert to numerical representation\n",
        "\n",
        "2) Build model to learn the patterns in numbers"
      ],
      "metadata": {
        "id": "RKxp39qhFlWh"
      }
    },
    {
      "cell_type": "code",
      "source": [
        "# Lets create a linear regression model and the fuction is \"y = a + bx\"\n",
        "# a is intercept, b is weight and x is a parameter\n",
        "# Create a \"known\" parameters or features or data\n",
        "\n",
        "weight = 0.7 #b\n",
        "bias = 0.3   #a\n",
        "\n",
        "#lets create a data\n",
        "\n",
        "start = 0\n",
        "end = 1\n",
        "step = 0.02\n",
        "\n",
        "\n",
        "X = torch.arange(start, end, step)  # capital X represents matrix and lowercase will be a vector\n",
        "\n",
        "# Toggle between these two to check the graph\n",
        "\n",
        "#X = torch.rand(50)"
      ],
      "metadata": {
        "id": "p37vv4fzGCBU"
      },
      "execution_count": 105,
      "outputs": []
    },
    {
      "cell_type": "code",
      "source": [
        "print(X)"
      ],
      "metadata": {
        "colab": {
          "base_uri": "https://localhost:8080/"
        },
        "id": "oaNi_roqILpO",
        "outputId": "d8e38287-d17d-4d3e-d306-08799dde0929"
      },
      "execution_count": 106,
      "outputs": [
        {
          "output_type": "stream",
          "name": "stdout",
          "text": [
            "tensor([0.0000, 0.0200, 0.0400, 0.0600, 0.0800, 0.1000, 0.1200, 0.1400, 0.1600,\n",
            "        0.1800, 0.2000, 0.2200, 0.2400, 0.2600, 0.2800, 0.3000, 0.3200, 0.3400,\n",
            "        0.3600, 0.3800, 0.4000, 0.4200, 0.4400, 0.4600, 0.4800, 0.5000, 0.5200,\n",
            "        0.5400, 0.5600, 0.5800, 0.6000, 0.6200, 0.6400, 0.6600, 0.6800, 0.7000,\n",
            "        0.7200, 0.7400, 0.7600, 0.7800, 0.8000, 0.8200, 0.8400, 0.8600, 0.8800,\n",
            "        0.9000, 0.9200, 0.9400, 0.9600, 0.9800])\n"
          ]
        }
      ]
    },
    {
      "cell_type": "code",
      "source": [
        "y = bias + (weight * X) # a + bx"
      ],
      "metadata": {
        "id": "vLB2E86fIP9A"
      },
      "execution_count": 107,
      "outputs": []
    },
    {
      "cell_type": "code",
      "source": [
        "print(y)"
      ],
      "metadata": {
        "colab": {
          "base_uri": "https://localhost:8080/"
        },
        "id": "XaVf9Td5Ijwv",
        "outputId": "c00734ac-710c-4e5d-ec45-435d75881e91"
      },
      "execution_count": 108,
      "outputs": [
        {
          "output_type": "stream",
          "name": "stdout",
          "text": [
            "tensor([0.3000, 0.3140, 0.3280, 0.3420, 0.3560, 0.3700, 0.3840, 0.3980, 0.4120,\n",
            "        0.4260, 0.4400, 0.4540, 0.4680, 0.4820, 0.4960, 0.5100, 0.5240, 0.5380,\n",
            "        0.5520, 0.5660, 0.5800, 0.5940, 0.6080, 0.6220, 0.6360, 0.6500, 0.6640,\n",
            "        0.6780, 0.6920, 0.7060, 0.7200, 0.7340, 0.7480, 0.7620, 0.7760, 0.7900,\n",
            "        0.8040, 0.8180, 0.8320, 0.8460, 0.8600, 0.8740, 0.8880, 0.9020, 0.9160,\n",
            "        0.9300, 0.9440, 0.9580, 0.9720, 0.9860])\n"
          ]
        }
      ]
    },
    {
      "cell_type": "code",
      "source": [
        "X [:10], y[:10]"
      ],
      "metadata": {
        "colab": {
          "base_uri": "https://localhost:8080/"
        },
        "id": "xU0jx3lKIlON",
        "outputId": "f3efd570-7421-4d88-d083-9128800ff6b2"
      },
      "execution_count": 109,
      "outputs": [
        {
          "output_type": "execute_result",
          "data": {
            "text/plain": [
              "(tensor([0.0000, 0.0200, 0.0400, 0.0600, 0.0800, 0.1000, 0.1200, 0.1400, 0.1600,\n",
              "         0.1800]),\n",
              " tensor([0.3000, 0.3140, 0.3280, 0.3420, 0.3560, 0.3700, 0.3840, 0.3980, 0.4120,\n",
              "         0.4260]))"
            ]
          },
          "metadata": {},
          "execution_count": 109
        }
      ]
    },
    {
      "cell_type": "markdown",
      "source": [
        "From the above cell we have y which was generate by X and we know the reson for the value ***0.3140*** for the second value of x whihc is ***0.0200*** and there relation is 0.3 + (0.7 * 0.0200)\n",
        "\n",
        "\n",
        "\n",
        ">\"*Our goal is to find this equation using machine learning*\"\n",
        "\n",
        "\n",
        "\n",
        "\n",
        "\n",
        "\n"
      ],
      "metadata": {
        "id": "2IckpUAGI355"
      }
    },
    {
      "cell_type": "code",
      "source": [
        "X = torch.arange(start, end, step).unsqueeze(dim=1) # we will add one more dimension to the tensor values for woring with model which makes up with [[]]\n",
        "print(X[:5])"
      ],
      "metadata": {
        "colab": {
          "base_uri": "https://localhost:8080/"
        },
        "id": "VanIjFPoIvNQ",
        "outputId": "93de612d-975f-4781-b64d-447830b69e2c"
      },
      "execution_count": 110,
      "outputs": [
        {
          "output_type": "stream",
          "name": "stdout",
          "text": [
            "tensor([[0.0000],\n",
            "        [0.0200],\n",
            "        [0.0400],\n",
            "        [0.0600],\n",
            "        [0.0800]])\n"
          ]
        }
      ]
    },
    {
      "cell_type": "markdown",
      "source": [
        "# Splitting Data\n",
        "\n",
        "\n",
        "\n",
        "1.   Training Set\n",
        "2.   Validation Set \"*we will iterate the process until it does well on validation set before we perform on Test Set*\"\n",
        "3.   Test Set \"see if model is ready for genralization\"\n",
        "\n",
        "Main goal is to send genralize the model and see how weel it perform on unseen data\n",
        "\n",
        "\n",
        "**100 samples -> 70 : 15 : 15**\n",
        "\n",
        "\n",
        "\n"
      ],
      "metadata": {
        "id": "Rw7g6OZdLnmJ"
      }
    },
    {
      "cell_type": "code",
      "source": [
        "# Create train/validate/test split\n",
        "print(f\"Total number of sample in X is {len(X)}\")\n",
        "train_spilt_sample = int(0.75*len(X)) # 78% for training\n",
        "validate_split_sample = int(0.05 * len(X))  # 5% for validation\n",
        "test_split_sample = int(len(X) - (train_spilt_sample + validate_split_sample))\n",
        "\n",
        "print(f\"sample of train is {train_spilt_sample}, validataion sample is {validate_split_sample} and test sample is {test_split_sample} and there total is {train_spilt_sample + validate_split_sample + test_split_sample}\")\n"
      ],
      "metadata": {
        "colab": {
          "base_uri": "https://localhost:8080/"
        },
        "id": "jpZIvRRBKc0z",
        "outputId": "95540038-93c4-44e4-dd75-24574b910f86"
      },
      "execution_count": 111,
      "outputs": [
        {
          "output_type": "stream",
          "name": "stdout",
          "text": [
            "Total number of sample in X is 50\n",
            "sample of train is 37, validataion sample is 2 and test sample is 11 and there total is 50\n"
          ]
        }
      ]
    },
    {
      "cell_type": "code",
      "source": [
        "#Sklearn library can help us in spliting the sample like below one and also can add randomness in selecting sample\n",
        "X_train, y_train = X[ : train_spilt_sample], y[ : train_spilt_sample]\n",
        "X_validate, y_validate = X[train_spilt_sample : train_spilt_sample+validate_split_sample], y[train_spilt_sample : train_spilt_sample+validate_split_sample]\n",
        "X_test,  y_test = X[train_spilt_sample+validate_split_sample : ], y[train_spilt_sample+validate_split_sample : ]\n",
        "\n",
        "len(X_train), len(X_validate), len(X_test), len(y_train), len(y_validate), len(y_test)"
      ],
      "metadata": {
        "colab": {
          "base_uri": "https://localhost:8080/"
        },
        "id": "R5d592T7N55A",
        "outputId": "f5734f8f-6f78-47d8-a6a1-f21bb6f0c35c"
      },
      "execution_count": 112,
      "outputs": [
        {
          "output_type": "execute_result",
          "data": {
            "text/plain": [
              "(37, 2, 11, 37, 2, 11)"
            ]
          },
          "metadata": {},
          "execution_count": 112
        }
      ]
    },
    {
      "cell_type": "code",
      "source": [
        "# Visulize sample on the Page\n",
        "\n",
        "def plot_prediction(train_data =X_train,\n",
        "                    train_label = y_train,\n",
        "                    validate_data = X_validate,\n",
        "                    validate_label = y_validate,\n",
        "                    test_data = X_test,\n",
        "                    test_label = y_test,\n",
        "                    prediction = None):\n",
        "  \"\"\"\n",
        "  Plots all the samples\n",
        "  \"\"\"\n",
        "  plt.figure(figsize = (10,7))\n",
        "\n",
        "  #plot training data in blue\n",
        "  plt.scatter(train_data, train_label, s = 1, c = \"b\", label = \"Training sample\")\n",
        "\n",
        "  #plot validation data in red\n",
        "  plt.scatter(validate_data,validate_label, s = 4, c = \"#FF007F\", label = \"validation sample\")\n",
        "\n",
        "  #plot test data in green\n",
        "  plt.scatter(test_data,test_label, s = 4, c = \"g\", label = \"Test sample\")\n",
        "\n",
        "  #Are there prediction\n",
        "\n",
        "  if prediction is not None:\n",
        "\n",
        "    #Plot predictions\n",
        "    plt.scatter(test_data, prediction, s = 4, c = \"r\", label = \"prediction\")\n",
        "\n",
        "  #show legends\n",
        "  plt.legend( prop = { \"size\" : 14 } );\n"
      ],
      "metadata": {
        "id": "hyZclTSFR6mC"
      },
      "execution_count": 113,
      "outputs": []
    },
    {
      "cell_type": "code",
      "source": [
        "plot_prediction()"
      ],
      "metadata": {
        "colab": {
          "base_uri": "https://localhost:8080/",
          "height": 599
        },
        "id": "6Y7RuwkUVJwR",
        "outputId": "058199fd-e69c-44d5-86a5-c247ffec8da6"
      },
      "execution_count": 114,
      "outputs": [
        {
          "output_type": "display_data",
          "data": {
            "text/plain": [
              "<Figure size 1000x700 with 1 Axes>"
            ],
            "image/png": "[encoded data removed]"
          },
          "metadata": {}
        }
      ]
    },
    {
      "cell_type": "markdown",
      "source": [
        "# Build Model"
      ],
      "metadata": {
        "id": "2IHHcedRa3pl"
      }
    },
    {
      "cell_type": "code",
      "source": [
        "#Create linear regression model class\n",
        "\n",
        "class LinearRegressionModel(nn.Module): #we are inheriting nn.Model class in this\n",
        "  def __init__(self):\n",
        "    super().__init__()\n",
        "    self.weights = nn.Parameter(torch.randn(1,\n",
        "                                            requires_grad = True,\n",
        "                                            dtype = torch.float))\n",
        "\n",
        "    self.bias = nn.Parameter(torch.randn(1,\n",
        "                                         requires_grad = True,\n",
        "                                         dtype = torch.float))\n",
        "  # Forward method to define the computation in the model\n",
        "  def forward(self, x: torch.Tensor) -> torch.Tensor:\n",
        "    return self.weights * x + self.bias"
      ],
      "metadata": {
        "id": "xFY22zloXlM2"
      },
      "execution_count": 115,
      "outputs": []
    },
    {
      "cell_type": "markdown",
      "source": [
        "### PyTorch modules\n",
        "\n",
        "\n",
        "* torch.nn (all models)\n",
        "* torch.nn.parameter (.nn will take these parameters)\n",
        "\n",
        ">.nn will take these parameters\n",
        "\n",
        "* torch.nn.Module (The base class for all the neural network modules, if subclass then overwrite with forward())\n",
        "* torch.optim (help with GD)\n",
        "\n",
        "\n",
        "\n",
        "\n"
      ],
      "metadata": {
        "id": "A3GInKtyh5-m"
      }
    },
    {
      "cell_type": "markdown",
      "source": [
        "For creating data\n",
        "\n",
        "*  torchvision.transforms\n",
        "*  torch.utils.data.Dataset\n",
        "*  torch.utils.data.Dataloader\n",
        "\n",
        "Selecting A model\n",
        "\n",
        "*  torch.nn\n",
        "*  torch.nn.Module\n",
        "*  toechvision.models\n",
        "\n",
        "Optimization of model\n",
        "\n",
        "*  torch.optim\n",
        "\n",
        "Evaluation of model\n",
        "\n",
        "*  torchmetrics\n",
        "\n",
        "imporve through experiment\n",
        "\n",
        "*  torch.utils.tensorboard\n",
        "\n",
        "\n",
        "\n"
      ],
      "metadata": {
        "id": "Xc7FLvDnknwb"
      }
    },
    {
      "cell_type": "code",
      "source": [
        "# To check model parameters we can use .parameters()\n",
        "\n",
        "# Create randome seed\n",
        "\n",
        "torch.manual_seed(42) # if there is no random seed we get different value everytime\n",
        "\n",
        "# Create an instance of a model (this is a subclass of a nn.module)\n",
        "\n",
        "model_0 = LinearRegressionModel()\n",
        "model_0\n",
        "\n"
      ],
      "metadata": {
        "colab": {
          "base_uri": "https://localhost:8080/"
        },
        "id": "N_lJKlBhgq10",
        "outputId": "46c5c37a-dda1-4176-d59b-2ba1b62cac19"
      },
      "execution_count": 116,
      "outputs": [
        {
          "output_type": "execute_result",
          "data": {
            "text/plain": [
              "LinearRegressionModel()"
            ]
          },
          "metadata": {},
          "execution_count": 116
        }
      ]
    },
    {
      "cell_type": "code",
      "source": [
        "#check the parameters\n",
        "\n",
        "model_0.parameters()"
      ],
      "metadata": {
        "colab": {
          "base_uri": "https://localhost:8080/"
        },
        "id": "oY-Cs6_SmbNH",
        "outputId": "e7101189-a105-433f-a091-ee280dee5411"
      },
      "execution_count": 117,
      "outputs": [
        {
          "output_type": "execute_result",
          "data": {
            "text/plain": [
              "<generator object Module.parameters at 0x79ee10f59af0>"
            ]
          },
          "metadata": {},
          "execution_count": 117
        }
      ]
    },
    {
      "cell_type": "code",
      "source": [
        "#generator? so\n",
        "\n",
        "list(model_0.parameters())"
      ],
      "metadata": {
        "colab": {
          "base_uri": "https://localhost:8080/"
        },
        "id": "UY_fEZAPnn0W",
        "outputId": "3abda65d-6190-4ee1-b350-95ba3214b223"
      },
      "execution_count": 118,
      "outputs": [
        {
          "output_type": "execute_result",
          "data": {
            "text/plain": [
              "[Parameter containing:\n",
              " tensor([0.3367], requires_grad=True),\n",
              " Parameter containing:\n",
              " tensor([0.1288], requires_grad=True)]"
            ]
          },
          "metadata": {},
          "execution_count": 118
        }
      ]
    },
    {
      "cell_type": "code",
      "source": [
        "#List the name parameters\n",
        "\n",
        "model_0.state_dict()"
      ],
      "metadata": {
        "colab": {
          "base_uri": "https://localhost:8080/"
        },
        "id": "eLfQGHNKnr9U",
        "outputId": "e63b2d16-2ee3-43f8-d00a-78fe5ccdf20a"
      },
      "execution_count": 119,
      "outputs": [
        {
          "output_type": "execute_result",
          "data": {
            "text/plain": [
              "OrderedDict([('weights', tensor([0.3367])), ('bias', tensor([0.1288]))])"
            ]
          },
          "metadata": {},
          "execution_count": 119
        }
      ]
    },
    {
      "cell_type": "code",
      "source": [
        "# making prediction using torch.inference_mode()\n",
        "\n",
        "with torch.inference_mode():   # this will not track the gradient if you use .inference_mode()wit\n",
        "  y_preds = model_0(X_test)\n",
        "y_preds"
      ],
      "metadata": {
        "colab": {
          "base_uri": "https://localhost:8080/"
        },
        "id": "ERAz9W8fo_Ll",
        "outputId": "d4c55c61-f658-4330-80b3-32497dcd7b5a"
      },
      "execution_count": 120,
      "outputs": [
        {
          "output_type": "execute_result",
          "data": {
            "text/plain": [
              "tensor([[0.3914],\n",
              "        [0.3982],\n",
              "        [0.4049],\n",
              "        [0.4116],\n",
              "        [0.4184],\n",
              "        [0.4251],\n",
              "        [0.4318],\n",
              "        [0.4386],\n",
              "        [0.4453],\n",
              "        [0.4520],\n",
              "        [0.4588]])"
            ]
          },
          "metadata": {},
          "execution_count": 120
        }
      ]
    },
    {
      "cell_type": "code",
      "source": [
        "plot_prediction(prediction= y_preds)"
      ],
      "metadata": {
        "colab": {
          "base_uri": "https://localhost:8080/",
          "height": 599
        },
        "id": "2W3sin5-q1UN",
        "outputId": "2bafd257-f023-4f0f-ee35-94082ed23a35"
      },
      "execution_count": 121,
      "outputs": [
        {
          "output_type": "display_data",
          "data": {
            "text/plain": [
              "<Figure size 1000x700 with 1 Axes>"
            ],
            "image/png": "[encoded data removed]"
          },
          "metadata": {}
        }
      ]
    },
    {
      "cell_type": "code",
      "source": [
        "with torch.no_grad():   # new method which runs your code faster\n",
        "  y_pred = model_0(X_test)\n",
        "\n",
        "y_pred"
      ],
      "metadata": {
        "colab": {
          "base_uri": "https://localhost:8080/"
        },
        "id": "pRZN_qBXrhQh",
        "outputId": "f36a263b-a5d2-4749-a620-05309fa26c53"
      },
      "execution_count": 122,
      "outputs": [
        {
          "output_type": "execute_result",
          "data": {
            "text/plain": [
              "tensor([[0.3914],\n",
              "        [0.3982],\n",
              "        [0.4049],\n",
              "        [0.4116],\n",
              "        [0.4184],\n",
              "        [0.4251],\n",
              "        [0.4318],\n",
              "        [0.4386],\n",
              "        [0.4453],\n",
              "        [0.4520],\n",
              "        [0.4588]])"
            ]
          },
          "metadata": {},
          "execution_count": 122
        }
      ]
    },
    {
      "cell_type": "code",
      "source": [
        "list(model_0.parameters())"
      ],
      "metadata": {
        "colab": {
          "base_uri": "https://localhost:8080/"
        },
        "id": "1ItXHqQes8xN",
        "outputId": "1982d8a8-2b38-4934-f9c1-5a8cd502b8af"
      },
      "execution_count": 123,
      "outputs": [
        {
          "output_type": "execute_result",
          "data": {
            "text/plain": [
              "[Parameter containing:\n",
              " tensor([0.3367], requires_grad=True),\n",
              " Parameter containing:\n",
              " tensor([0.1288], requires_grad=True)]"
            ]
          },
          "metadata": {},
          "execution_count": 123
        }
      ]
    },
    {
      "cell_type": "code",
      "source": [
        "#make model to converge better to the data\n",
        "\n",
        "#loss function or cost function help us see fow model is performing. -- lower is better\n",
        "#optimizer adjust model parameters to improve loss function\n",
        "\n",
        "list(model_0.parameters())"
      ],
      "metadata": {
        "colab": {
          "base_uri": "https://localhost:8080/"
        },
        "id": "VAUNsN3Sufte",
        "outputId": "55fa4708-805f-44bf-9914-5b7436ab63c2"
      },
      "execution_count": 124,
      "outputs": [
        {
          "output_type": "execute_result",
          "data": {
            "text/plain": [
              "[Parameter containing:\n",
              " tensor([0.3367], requires_grad=True),\n",
              " Parameter containing:\n",
              " tensor([0.1288], requires_grad=True)]"
            ]
          },
          "metadata": {},
          "execution_count": 124
        }
      ]
    },
    {
      "cell_type": "code",
      "source": [
        "model_0.state_dict()"
      ],
      "metadata": {
        "colab": {
          "base_uri": "https://localhost:8080/"
        },
        "id": "zt8Ng8XTwGI6",
        "outputId": "0170bd37-d830-4a26-aa29-0a96e7118125"
      },
      "execution_count": 125,
      "outputs": [
        {
          "output_type": "execute_result",
          "data": {
            "text/plain": [
              "OrderedDict([('weights', tensor([0.3367])), ('bias', tensor([0.1288]))])"
            ]
          },
          "metadata": {},
          "execution_count": 125
        }
      ]
    },
    {
      "cell_type": "markdown",
      "source": [
        "#Loss Fuction\n",
        "\n"
      ],
      "metadata": {
        "id": "BEqeplspyH5K"
      }
    },
    {
      "cell_type": "code",
      "source": [
        "loss_fn = nn.L1Loss()\n",
        "\n",
        "#Optimizer troch.optim\n",
        "\n",
        "optimizer = torch.optim.SGD(params = model_0.parameters(),\n",
        "                            lr = 0.00123) #lr leraning rate is a hyper parameter\n",
        "\n"
      ],
      "metadata": {
        "id": "ccFe81kEwRtV"
      },
      "execution_count": 132,
      "outputs": []
    },
    {
      "cell_type": "markdown",
      "source": [
        "# Building a training Loop"
      ],
      "metadata": {
        "id": "9y31wsNO0RlM"
      }
    },
    {
      "cell_type": "code",
      "source": [
        "epochs = 1000\n",
        "\n",
        "for epoch in range(epochs):\n",
        "  model_0.train() # train mode in Pytorch set gradient to true for tracking\n",
        "  y_pred = model_0(X_train)\n",
        "\n",
        "  loss = loss_fn(y_pred, y_train)\n",
        "  #print(f\"Loss : {loss}\")\n",
        "  optimizer.zero_grad()\n",
        "\n",
        "  loss.backward()\n",
        "\n",
        "  optimizer.step()\n",
        "  #print(f\"weight: {weight} and bias : {bias}\")\n",
        "  #print(model_0.state_dict())\n",
        "\n",
        "  model_0.eval() #turns off gradient tracking\n",
        "\n",
        "  with torch.inference_mode():\n",
        "    test_pred = model_0(X_test)\n",
        "\n",
        "    test_loss = loss_fn(test_pred, y_test)\n",
        "  if epoch % 100 == 0:\n",
        "    print(f\"Epoch : {epoch} | Loss: {loss} | Test loss: {test_loss}\")\n",
        "    print(f\"{model_0.state_dict()}\")"
      ],
      "metadata": {
        "colab": {
          "base_uri": "https://localhost:8080/"
        },
        "id": "ERuzLK7uySf3",
        "outputId": "4ed96130-ec15-47b0-b621-c9c10c177229"
      },
      "execution_count": 133,
      "outputs": [
        {
          "output_type": "stream",
          "name": "stdout",
          "text": [
            "Epoch : 0 | Loss: 0.12985049188137054 | Test loss: 0.3313245177268982\n",
            "OrderedDict([('weights', tensor([0.0653])), ('bias', tensor([0.5272]))])\n",
            "Epoch : 100 | Loss: 0.12983550131320953 | Test loss: 0.3319660723209381\n",
            "OrderedDict([('weights', tensor([0.0641])), ('bias', tensor([0.5277]))])\n",
            "Epoch : 200 | Loss: 0.1298215091228485 | Test loss: 0.33257925510406494\n",
            "OrderedDict([('weights', tensor([0.0628])), ('bias', tensor([0.5281]))])\n",
            "Epoch : 300 | Loss: 0.12980809807777405 | Test loss: 0.3331795930862427\n",
            "OrderedDict([('weights', tensor([0.0616])), ('bias', tensor([0.5286]))])\n",
            "Epoch : 400 | Loss: 0.1297946721315384 | Test loss: 0.33377861976623535\n",
            "OrderedDict([('weights', tensor([0.0604])), ('bias', tensor([0.5290]))])\n",
            "Epoch : 500 | Loss: 0.12978126108646393 | Test loss: 0.3343789577484131\n",
            "OrderedDict([('weights', tensor([0.0592])), ('bias', tensor([0.5295]))])\n",
            "Epoch : 600 | Loss: 0.1297682225704193 | Test loss: 0.33496466279029846\n",
            "OrderedDict([('weights', tensor([0.0581])), ('bias', tensor([0.5299]))])\n",
            "Epoch : 700 | Loss: 0.12975643575191498 | Test loss: 0.335501104593277\n",
            "OrderedDict([('weights', tensor([0.0569])), ('bias', tensor([0.5304]))])\n",
            "Epoch : 800 | Loss: 0.12974463403224945 | Test loss: 0.3360375463962555\n",
            "OrderedDict([('weights', tensor([0.0558])), ('bias', tensor([0.5308]))])\n",
            "Epoch : 900 | Loss: 0.1297328621149063 | Test loss: 0.3365739583969116\n",
            "OrderedDict([('weights', tensor([0.0547])), ('bias', tensor([0.5313]))])\n"
          ]
        }
      ]
    },
    {
      "cell_type": "code",
      "source": [
        " #Testing\n",
        "\n",
        "model_0.eval()\n",
        "\n",
        "y_pred = model_0(X_test)\n",
        "\n",
        "plot_prediction(prediction= y_preds)"
      ],
      "metadata": {
        "colab": {
          "base_uri": "https://localhost:8080/",
          "height": 599
        },
        "id": "Hw8j0g5RBH_s",
        "outputId": "bf5d0aab-8870-4cd7-cc75-16c0fa486ac5"
      },
      "execution_count": 134,
      "outputs": [
        {
          "output_type": "display_data",
          "data": {
            "text/plain": [
              "<Figure size 1000x700 with 1 Axes>"
            ],
            "image/png": "[encoded data removed]"
          },
          "metadata": {}
        }
      ]
    },
    {
      "cell_type": "code",
      "source": [
        "list(model_0.parameters())"
      ],
      "metadata": {
        "colab": {
          "base_uri": "https://localhost:8080/"
        },
        "id": "t8MOEalpLiPP",
        "outputId": "62fca4e6-cfe8-44fd-da5b-58ec17762949"
      },
      "execution_count": 135,
      "outputs": [
        {
          "output_type": "execute_result",
          "data": {
            "text/plain": [
              "[Parameter containing:\n",
              " tensor([0.0536], requires_grad=True),\n",
              " Parameter containing:\n",
              " tensor([0.5317], requires_grad=True)]"
            ]
          },
          "metadata": {},
          "execution_count": 135
        }
      ]
    },
    {
      "cell_type": "code",
      "source": [
        "model_0.state_dict()"
      ],
      "metadata": {
        "colab": {
          "base_uri": "https://localhost:8080/"
        },
        "id": "Q1A6GSXtLlR0",
        "outputId": "8e518a29-2a0a-4045-c1fe-277d1c24dca6"
      },
      "execution_count": 136,
      "outputs": [
        {
          "output_type": "execute_result",
          "data": {
            "text/plain": [
              "OrderedDict([('weights', tensor([0.0536])), ('bias', tensor([0.5317]))])"
            ]
          },
          "metadata": {},
          "execution_count": 136
        }
      ]
    },
    {
      "cell_type": "code",
      "source": [
        "with torch.inference_mode():\n",
        "  y_preds_new  = model_0(X_test)\n",
        "\n",
        "plot_prediction(prediction= y_preds_new)"
      ],
      "metadata": {
        "colab": {
          "base_uri": "https://localhost:8080/",
          "height": 599
        },
        "id": "gTMvCRG1Lzps",
        "outputId": "f16105d2-c068-4ac6-fb4b-ef5dfd31f8d0"
      },
      "execution_count": 137,
      "outputs": [
        {
          "output_type": "display_data",
          "data": {
            "text/plain": [
              "<Figure size 1000x700 with 1 Axes>"
            ],
            "image/png": "[encoded data removed]"
          },
          "metadata": {}
        }
      ]
    },
    {
      "cell_type": "code",
      "source": [
        ""
      ],
      "metadata": {
        "id": "e1tKu4EIPrMQ"
      },
      "execution_count": 131,
      "outputs": []
    }
  ]
}